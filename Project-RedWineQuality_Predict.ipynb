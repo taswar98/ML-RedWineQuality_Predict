{
 "cells": [
  {
   "cell_type": "markdown",
   "id": "5e402230",
   "metadata": {},
   "source": [
    "## Project - Applying Data Science Methodology on Red Wine Quality Dataset\n",
    "\n",
    "<img src=\"https://media.giphy.com/media/jRuv9xc10lVyE/giphy.gif\">\n",
    "\n",
    "You can read more about the Data Science Methodology from this [IBM whitepaper](https://tdwi.org/~/media/64511A895D86457E964174EDC5C4C7B1.PDF) by John Rollins\n",
    "\n",
    "[Link](https://archive.ics.uci.edu/ml/datasets/wine+quality) for the dataset for context\n",
    "\n",
    "<img src=\"https://media-exp1.licdn.com/dms/image/C4D12AQGOPVf5iqhhwQ/article-inline_image-shrink_1000_1488/0/1597756152693?e=1652918400&v=beta&t=iKZ2jX3khsx11lD9JyZWDz-j-Gt2hZsKPXz5rZ0iE1M\">"
   ]
  },
  {
   "cell_type": "markdown",
   "id": "96fa59d2",
   "metadata": {
    "button": false,
    "new_sheet": false,
    "run_control": {
     "read_only": false
    }
   },
   "source": [
    "### Business Understanding\n",
    "\n",
    "The red wine industry shows a recent exponential growth as social drinking is on the rise. Nowadays, industry players are using product quality certifications to promote their products. This is a time-consuming process and requires the assessment given by human experts, which makes this process very expensive. Also, the price of red wine depends on a rather abstract concept of wine appreciation by wine tasters, opinion among whom may have a high degree of variability. Another vital factor in red wine certification and quality assessment is physicochemical tests, which are laboratory-based and consider factors like acidity, pH level, sugar, and other chemical properties. The red wine market would be of interest if the human quality of tasting can be related to wine’s chemical properties so that certification and quality assessment and assurance processes are more controlled. \n",
    "\n",
    "The goal is to implement Regression Models and Classification Models on the Red Wine Quality Dataset to determine which features are the best quality red wine indicators and generate insights into each of these factors to our model’s red wine quality."
   ]
  },
  {
   "cell_type": "markdown",
   "id": "ead99b54",
   "metadata": {},
   "source": [
    "### Analytic Approach\n",
    "Based on the above business understanding one should decide the analytical approach to follow. The approaches can be of 4 types: Descriptive approach (current status and information provided), Diagnostic approach(a.k.a statistical analysis, what is happening and why it is happening), Predictive approach(it forecasts on the trends or future events probability) and Prescriptive approach( how the problem should be solved actually).\n",
    "\n",
    "**Q1. What is the analytical approach that you would take for this project? Why do you think its the right approach?**\n",
    "\n",
    "Ans: I would take the predictive approach. It is the right approach because the date we will use have specific features and each feature will have unique patterns which will help us identify the quality of red wine."
   ]
  },
  {
   "cell_type": "markdown",
   "id": "12766c3d",
   "metadata": {},
   "source": [
    "### Data Requirements\n",
    "\n",
    "**Q2. What kind of data do we require for predicting the red wine quality and for determining the features that are the best quality red wine indicators?**\n",
    "\n",
    "Ans: We need more statistical data which will help us to predict the red wine quality better."
   ]
  },
  {
   "cell_type": "markdown",
   "id": "5d59c819",
   "metadata": {},
   "source": [
    "### Data Collection\n",
    "\n",
    "**Q3. From where do we get our data?**\n",
    "\n",
    "Ans: Datset is downloaded from machine learning repository (https://archive.ics.uci.edu/ml/datasets/wine+quality)."
   ]
  },
  {
   "cell_type": "markdown",
   "id": "c8419dbc",
   "metadata": {},
   "source": [
    "### Data Understanding\n",
    "\n",
    "Link for the dataset https://archive.ics.uci.edu/ml/datasets/wine+quality for context\n",
    "\n",
    "**Q4. From where are red wine samples obtained?**\n",
    "\n",
    "Ans: We obtained the red wine samples from the north of Portugal to model red wine quality based on physicochemical tests.\n",
    "\n",
    "**Q5. How can knowing the impact of each variable on the red wine quality help businesses(producers, distributors, etc) ?**\n",
    "\n",
    "Ans: This data will allow us to create different regression models to determine how different independent variables help predict our dependent variable, quality.\n",
    "\n",
    "*TODO*\n",
    "<li>Check the shape of data, and the datatypes of the features</li>\n",
    "<li>Understand the data by carrying out any steps that you think are necessary</li>"
   ]
  },
  {
   "cell_type": "code",
   "execution_count": 2,
   "id": "6f99455b",
   "metadata": {},
   "outputs": [],
   "source": [
    "import pandas as pd"
   ]
  },
  {
   "cell_type": "code",
   "execution_count": 3,
   "id": "1e6502f5",
   "metadata": {},
   "outputs": [],
   "source": [
    "df=pd.read_csv('winequality-red.csv')"
   ]
  },
  {
   "cell_type": "code",
   "execution_count": 4,
   "id": "54c9bdd6",
   "metadata": {},
   "outputs": [
    {
     "data": {
      "text/html": [
       "<div>\n",
       "<style scoped>\n",
       "    .dataframe tbody tr th:only-of-type {\n",
       "        vertical-align: middle;\n",
       "    }\n",
       "\n",
       "    .dataframe tbody tr th {\n",
       "        vertical-align: top;\n",
       "    }\n",
       "\n",
       "    .dataframe thead th {\n",
       "        text-align: right;\n",
       "    }\n",
       "</style>\n",
       "<table border=\"1\" class=\"dataframe\">\n",
       "  <thead>\n",
       "    <tr style=\"text-align: right;\">\n",
       "      <th></th>\n",
       "      <th>fixed acidity</th>\n",
       "      <th>volatile acidity</th>\n",
       "      <th>citric acid</th>\n",
       "      <th>residual sugar</th>\n",
       "      <th>chlorides</th>\n",
       "      <th>free sulfur dioxide</th>\n",
       "      <th>total sulfur dioxide</th>\n",
       "      <th>density</th>\n",
       "      <th>pH</th>\n",
       "      <th>sulphates</th>\n",
       "      <th>alcohol</th>\n",
       "      <th>quality</th>\n",
       "    </tr>\n",
       "  </thead>\n",
       "  <tbody>\n",
       "    <tr>\n",
       "      <th>0</th>\n",
       "      <td>7.4</td>\n",
       "      <td>0.70</td>\n",
       "      <td>0.00</td>\n",
       "      <td>1.9</td>\n",
       "      <td>0.076</td>\n",
       "      <td>11.0</td>\n",
       "      <td>34.0</td>\n",
       "      <td>0.9978</td>\n",
       "      <td>3.51</td>\n",
       "      <td>0.56</td>\n",
       "      <td>9.4</td>\n",
       "      <td>5</td>\n",
       "    </tr>\n",
       "    <tr>\n",
       "      <th>1</th>\n",
       "      <td>7.8</td>\n",
       "      <td>0.88</td>\n",
       "      <td>0.00</td>\n",
       "      <td>2.6</td>\n",
       "      <td>0.098</td>\n",
       "      <td>25.0</td>\n",
       "      <td>67.0</td>\n",
       "      <td>0.9968</td>\n",
       "      <td>3.20</td>\n",
       "      <td>0.68</td>\n",
       "      <td>9.8</td>\n",
       "      <td>5</td>\n",
       "    </tr>\n",
       "    <tr>\n",
       "      <th>2</th>\n",
       "      <td>7.8</td>\n",
       "      <td>0.76</td>\n",
       "      <td>0.04</td>\n",
       "      <td>2.3</td>\n",
       "      <td>0.092</td>\n",
       "      <td>15.0</td>\n",
       "      <td>54.0</td>\n",
       "      <td>0.9970</td>\n",
       "      <td>3.26</td>\n",
       "      <td>0.65</td>\n",
       "      <td>9.8</td>\n",
       "      <td>5</td>\n",
       "    </tr>\n",
       "    <tr>\n",
       "      <th>3</th>\n",
       "      <td>11.2</td>\n",
       "      <td>0.28</td>\n",
       "      <td>0.56</td>\n",
       "      <td>1.9</td>\n",
       "      <td>0.075</td>\n",
       "      <td>17.0</td>\n",
       "      <td>60.0</td>\n",
       "      <td>0.9980</td>\n",
       "      <td>3.16</td>\n",
       "      <td>0.58</td>\n",
       "      <td>9.8</td>\n",
       "      <td>6</td>\n",
       "    </tr>\n",
       "    <tr>\n",
       "      <th>4</th>\n",
       "      <td>7.4</td>\n",
       "      <td>0.70</td>\n",
       "      <td>0.00</td>\n",
       "      <td>1.9</td>\n",
       "      <td>0.076</td>\n",
       "      <td>11.0</td>\n",
       "      <td>34.0</td>\n",
       "      <td>0.9978</td>\n",
       "      <td>3.51</td>\n",
       "      <td>0.56</td>\n",
       "      <td>9.4</td>\n",
       "      <td>5</td>\n",
       "    </tr>\n",
       "  </tbody>\n",
       "</table>\n",
       "</div>"
      ],
      "text/plain": [
       "   fixed acidity  volatile acidity  citric acid  residual sugar  chlorides  \\\n",
       "0            7.4              0.70         0.00             1.9      0.076   \n",
       "1            7.8              0.88         0.00             2.6      0.098   \n",
       "2            7.8              0.76         0.04             2.3      0.092   \n",
       "3           11.2              0.28         0.56             1.9      0.075   \n",
       "4            7.4              0.70         0.00             1.9      0.076   \n",
       "\n",
       "   free sulfur dioxide  total sulfur dioxide  density    pH  sulphates  \\\n",
       "0                 11.0                  34.0   0.9978  3.51       0.56   \n",
       "1                 25.0                  67.0   0.9968  3.20       0.68   \n",
       "2                 15.0                  54.0   0.9970  3.26       0.65   \n",
       "3                 17.0                  60.0   0.9980  3.16       0.58   \n",
       "4                 11.0                  34.0   0.9978  3.51       0.56   \n",
       "\n",
       "   alcohol  quality  \n",
       "0      9.4        5  \n",
       "1      9.8        5  \n",
       "2      9.8        5  \n",
       "3      9.8        6  \n",
       "4      9.4        5  "
      ]
     },
     "execution_count": 4,
     "metadata": {},
     "output_type": "execute_result"
    }
   ],
   "source": [
    "df.head()"
   ]
  },
  {
   "cell_type": "code",
   "execution_count": 5,
   "id": "a5d884f7",
   "metadata": {},
   "outputs": [
    {
     "data": {
      "text/plain": [
       "(1599, 12)"
      ]
     },
     "execution_count": 5,
     "metadata": {},
     "output_type": "execute_result"
    }
   ],
   "source": [
    "df.shape"
   ]
  },
  {
   "cell_type": "code",
   "execution_count": 6,
   "id": "86a58bc6",
   "metadata": {},
   "outputs": [
    {
     "data": {
      "text/plain": [
       "fixed acidity           float64\n",
       "volatile acidity        float64\n",
       "citric acid             float64\n",
       "residual sugar          float64\n",
       "chlorides               float64\n",
       "free sulfur dioxide     float64\n",
       "total sulfur dioxide    float64\n",
       "density                 float64\n",
       "pH                      float64\n",
       "sulphates               float64\n",
       "alcohol                 float64\n",
       "quality                   int64\n",
       "dtype: object"
      ]
     },
     "execution_count": 6,
     "metadata": {},
     "output_type": "execute_result"
    }
   ],
   "source": [
    "df.dtypes"
   ]
  },
  {
   "cell_type": "markdown",
   "id": "05546ed7",
   "metadata": {},
   "source": [
    "### Data Preparation\n",
    "\n",
    "#### Explore the dataset further\n",
    "*TODO*\n",
    "<li>Check for missing values and handle if any</li>\n",
    "<li>Check for outliers if any and handle them</li>\n",
    "<li>Implement Correlation heatmap</li>\n",
    "<li>Check the distribution of data using histograms</li>\n",
    "<li>Prepare the data for modeling by carrying out any steps that you think are necessary</li>"
   ]
  },
  {
   "cell_type": "code",
   "execution_count": 7,
   "id": "df78eec1",
   "metadata": {},
   "outputs": [
    {
     "data": {
      "text/html": [
       "<div>\n",
       "<style scoped>\n",
       "    .dataframe tbody tr th:only-of-type {\n",
       "        vertical-align: middle;\n",
       "    }\n",
       "\n",
       "    .dataframe tbody tr th {\n",
       "        vertical-align: top;\n",
       "    }\n",
       "\n",
       "    .dataframe thead th {\n",
       "        text-align: right;\n",
       "    }\n",
       "</style>\n",
       "<table border=\"1\" class=\"dataframe\">\n",
       "  <thead>\n",
       "    <tr style=\"text-align: right;\">\n",
       "      <th></th>\n",
       "      <th>fixed acidity</th>\n",
       "      <th>volatile acidity</th>\n",
       "      <th>citric acid</th>\n",
       "      <th>residual sugar</th>\n",
       "      <th>chlorides</th>\n",
       "      <th>free sulfur dioxide</th>\n",
       "      <th>total sulfur dioxide</th>\n",
       "      <th>density</th>\n",
       "      <th>pH</th>\n",
       "      <th>sulphates</th>\n",
       "      <th>alcohol</th>\n",
       "      <th>quality</th>\n",
       "    </tr>\n",
       "  </thead>\n",
       "  <tbody>\n",
       "    <tr>\n",
       "      <th>0</th>\n",
       "      <td>False</td>\n",
       "      <td>False</td>\n",
       "      <td>False</td>\n",
       "      <td>False</td>\n",
       "      <td>False</td>\n",
       "      <td>False</td>\n",
       "      <td>False</td>\n",
       "      <td>False</td>\n",
       "      <td>False</td>\n",
       "      <td>False</td>\n",
       "      <td>False</td>\n",
       "      <td>False</td>\n",
       "    </tr>\n",
       "    <tr>\n",
       "      <th>1</th>\n",
       "      <td>False</td>\n",
       "      <td>False</td>\n",
       "      <td>False</td>\n",
       "      <td>False</td>\n",
       "      <td>False</td>\n",
       "      <td>False</td>\n",
       "      <td>False</td>\n",
       "      <td>False</td>\n",
       "      <td>False</td>\n",
       "      <td>False</td>\n",
       "      <td>False</td>\n",
       "      <td>False</td>\n",
       "    </tr>\n",
       "    <tr>\n",
       "      <th>2</th>\n",
       "      <td>False</td>\n",
       "      <td>False</td>\n",
       "      <td>False</td>\n",
       "      <td>False</td>\n",
       "      <td>False</td>\n",
       "      <td>False</td>\n",
       "      <td>False</td>\n",
       "      <td>False</td>\n",
       "      <td>False</td>\n",
       "      <td>False</td>\n",
       "      <td>False</td>\n",
       "      <td>False</td>\n",
       "    </tr>\n",
       "    <tr>\n",
       "      <th>3</th>\n",
       "      <td>False</td>\n",
       "      <td>False</td>\n",
       "      <td>False</td>\n",
       "      <td>False</td>\n",
       "      <td>False</td>\n",
       "      <td>False</td>\n",
       "      <td>False</td>\n",
       "      <td>False</td>\n",
       "      <td>False</td>\n",
       "      <td>False</td>\n",
       "      <td>False</td>\n",
       "      <td>False</td>\n",
       "    </tr>\n",
       "    <tr>\n",
       "      <th>4</th>\n",
       "      <td>False</td>\n",
       "      <td>False</td>\n",
       "      <td>False</td>\n",
       "      <td>False</td>\n",
       "      <td>False</td>\n",
       "      <td>False</td>\n",
       "      <td>False</td>\n",
       "      <td>False</td>\n",
       "      <td>False</td>\n",
       "      <td>False</td>\n",
       "      <td>False</td>\n",
       "      <td>False</td>\n",
       "    </tr>\n",
       "    <tr>\n",
       "      <th>...</th>\n",
       "      <td>...</td>\n",
       "      <td>...</td>\n",
       "      <td>...</td>\n",
       "      <td>...</td>\n",
       "      <td>...</td>\n",
       "      <td>...</td>\n",
       "      <td>...</td>\n",
       "      <td>...</td>\n",
       "      <td>...</td>\n",
       "      <td>...</td>\n",
       "      <td>...</td>\n",
       "      <td>...</td>\n",
       "    </tr>\n",
       "    <tr>\n",
       "      <th>1594</th>\n",
       "      <td>False</td>\n",
       "      <td>False</td>\n",
       "      <td>False</td>\n",
       "      <td>False</td>\n",
       "      <td>False</td>\n",
       "      <td>False</td>\n",
       "      <td>False</td>\n",
       "      <td>False</td>\n",
       "      <td>False</td>\n",
       "      <td>False</td>\n",
       "      <td>False</td>\n",
       "      <td>False</td>\n",
       "    </tr>\n",
       "    <tr>\n",
       "      <th>1595</th>\n",
       "      <td>False</td>\n",
       "      <td>False</td>\n",
       "      <td>False</td>\n",
       "      <td>False</td>\n",
       "      <td>False</td>\n",
       "      <td>False</td>\n",
       "      <td>False</td>\n",
       "      <td>False</td>\n",
       "      <td>False</td>\n",
       "      <td>False</td>\n",
       "      <td>False</td>\n",
       "      <td>False</td>\n",
       "    </tr>\n",
       "    <tr>\n",
       "      <th>1596</th>\n",
       "      <td>False</td>\n",
       "      <td>False</td>\n",
       "      <td>False</td>\n",
       "      <td>False</td>\n",
       "      <td>False</td>\n",
       "      <td>False</td>\n",
       "      <td>False</td>\n",
       "      <td>False</td>\n",
       "      <td>False</td>\n",
       "      <td>False</td>\n",
       "      <td>False</td>\n",
       "      <td>False</td>\n",
       "    </tr>\n",
       "    <tr>\n",
       "      <th>1597</th>\n",
       "      <td>False</td>\n",
       "      <td>False</td>\n",
       "      <td>False</td>\n",
       "      <td>False</td>\n",
       "      <td>False</td>\n",
       "      <td>False</td>\n",
       "      <td>False</td>\n",
       "      <td>False</td>\n",
       "      <td>False</td>\n",
       "      <td>False</td>\n",
       "      <td>False</td>\n",
       "      <td>False</td>\n",
       "    </tr>\n",
       "    <tr>\n",
       "      <th>1598</th>\n",
       "      <td>False</td>\n",
       "      <td>False</td>\n",
       "      <td>False</td>\n",
       "      <td>False</td>\n",
       "      <td>False</td>\n",
       "      <td>False</td>\n",
       "      <td>False</td>\n",
       "      <td>False</td>\n",
       "      <td>False</td>\n",
       "      <td>False</td>\n",
       "      <td>False</td>\n",
       "      <td>False</td>\n",
       "    </tr>\n",
       "  </tbody>\n",
       "</table>\n",
       "<p>1599 rows × 12 columns</p>\n",
       "</div>"
      ],
      "text/plain": [
       "      fixed acidity  volatile acidity  citric acid  residual sugar  chlorides  \\\n",
       "0             False             False        False           False      False   \n",
       "1             False             False        False           False      False   \n",
       "2             False             False        False           False      False   \n",
       "3             False             False        False           False      False   \n",
       "4             False             False        False           False      False   \n",
       "...             ...               ...          ...             ...        ...   \n",
       "1594          False             False        False           False      False   \n",
       "1595          False             False        False           False      False   \n",
       "1596          False             False        False           False      False   \n",
       "1597          False             False        False           False      False   \n",
       "1598          False             False        False           False      False   \n",
       "\n",
       "      free sulfur dioxide  total sulfur dioxide  density     pH  sulphates  \\\n",
       "0                   False                 False    False  False      False   \n",
       "1                   False                 False    False  False      False   \n",
       "2                   False                 False    False  False      False   \n",
       "3                   False                 False    False  False      False   \n",
       "4                   False                 False    False  False      False   \n",
       "...                   ...                   ...      ...    ...        ...   \n",
       "1594                False                 False    False  False      False   \n",
       "1595                False                 False    False  False      False   \n",
       "1596                False                 False    False  False      False   \n",
       "1597                False                 False    False  False      False   \n",
       "1598                False                 False    False  False      False   \n",
       "\n",
       "      alcohol  quality  \n",
       "0       False    False  \n",
       "1       False    False  \n",
       "2       False    False  \n",
       "3       False    False  \n",
       "4       False    False  \n",
       "...       ...      ...  \n",
       "1594    False    False  \n",
       "1595    False    False  \n",
       "1596    False    False  \n",
       "1597    False    False  \n",
       "1598    False    False  \n",
       "\n",
       "[1599 rows x 12 columns]"
      ]
     },
     "execution_count": 7,
     "metadata": {},
     "output_type": "execute_result"
    }
   ],
   "source": [
    "df.isnull()"
   ]
  },
  {
   "cell_type": "markdown",
   "id": "30c39efc",
   "metadata": {},
   "source": [
    "No missing value seen."
   ]
  },
  {
   "cell_type": "code",
   "execution_count": 8,
   "id": "ed8fdacb",
   "metadata": {},
   "outputs": [
    {
     "data": {
      "text/plain": [
       "fixed acidity           0\n",
       "volatile acidity        0\n",
       "citric acid             0\n",
       "residual sugar          0\n",
       "chlorides               0\n",
       "free sulfur dioxide     0\n",
       "total sulfur dioxide    0\n",
       "density                 0\n",
       "pH                      0\n",
       "sulphates               0\n",
       "alcohol                 0\n",
       "quality                 0\n",
       "dtype: int64"
      ]
     },
     "execution_count": 8,
     "metadata": {},
     "output_type": "execute_result"
    }
   ],
   "source": [
    "df.isnull().sum()"
   ]
  },
  {
   "cell_type": "code",
   "execution_count": 14,
   "id": "30ff80f6",
   "metadata": {},
   "outputs": [
    {
     "data": {
      "text/plain": [
       "<AxesSubplot:xlabel='residual sugar'>"
      ]
     },
     "execution_count": 14,
     "metadata": {},
     "output_type": "execute_result"
    },
    {
     "data": {
      "image/png": "[encoded data removed]",
      "text/plain": [
       "<Figure size 432x288 with 1 Axes>"
      ]
     },
     "metadata": {
      "needs_background": "light"
     },
     "output_type": "display_data"
    }
   ],
   "source": [
    "import seaborn as sns\n",
    "sns.boxplot(x=df['fixed acidity'])\n",
    "sns.boxplot(x=df['volatile acidity'])\n",
    "sns.boxplot(x=df['residual sugar'])"
   ]
  },
  {
   "cell_type": "code",
   "execution_count": 15,
   "id": "e9570c9a",
   "metadata": {},
   "outputs": [
    {
     "data": {
      "text/plain": [
       "array([[<AxesSubplot:title={'center':'fixed acidity'}>,\n",
       "        <AxesSubplot:title={'center':'volatile acidity'}>,\n",
       "        <AxesSubplot:title={'center':'citric acid'}>],\n",
       "       [<AxesSubplot:title={'center':'residual sugar'}>,\n",
       "        <AxesSubplot:title={'center':'chlorides'}>,\n",
       "        <AxesSubplot:title={'center':'free sulfur dioxide'}>],\n",
       "       [<AxesSubplot:title={'center':'total sulfur dioxide'}>,\n",
       "        <AxesSubplot:title={'center':'density'}>,\n",
       "        <AxesSubplot:title={'center':'pH'}>],\n",
       "       [<AxesSubplot:title={'center':'sulphates'}>,\n",
       "        <AxesSubplot:title={'center':'alcohol'}>,\n",
       "        <AxesSubplot:title={'center':'quality'}>]], dtype=object)"
      ]
     },
     "execution_count": 15,
     "metadata": {},
     "output_type": "execute_result"
    },
    {
     "data": {
      "image/png": "[encoded data removed]",
      "text/plain": [
       "<Figure size 720x720 with 12 Axes>"
      ]
     },
     "metadata": {
      "needs_background": "light"
     },
     "output_type": "display_data"
    }
   ],
   "source": [
    "df.hist(bins=25, figsize=(10,10))"
   ]
  },
  {
   "cell_type": "markdown",
   "id": "2298196a",
   "metadata": {},
   "source": [
    "**Checking distribution of data using histograms**"
   ]
  },
  {
   "cell_type": "code",
   "execution_count": 16,
   "id": "9ed5f1d3",
   "metadata": {},
   "outputs": [
    {
     "data": {
      "text/plain": [
       "<AxesSubplot:>"
      ]
     },
     "execution_count": 16,
     "metadata": {},
     "output_type": "execute_result"
    },
    {
     "data": {
      "image/png": "[encoded data removed]",
      "text/plain": [
       "<Figure size 1368x720 with 2 Axes>"
      ]
     },
     "metadata": {},
     "output_type": "display_data"
    }
   ],
   "source": [
    "import numpy as np\n",
    "import matplotlib.pyplot as plt\n",
    "plt.figure(figsize=[19,10], facecolor='blue')\n",
    "sns.heatmap(df.corr(), annot=True)"
   ]
  },
  {
   "cell_type": "code",
   "execution_count": 19,
   "id": "5411afb8",
   "metadata": {},
   "outputs": [],
   "source": [
    "quality = df['quality']\n",
    "features = df.drop(['quality'], axis=1)"
   ]
  },
  {
   "cell_type": "code",
   "execution_count": 20,
   "id": "1f79a65c",
   "metadata": {},
   "outputs": [],
   "source": [
    "from sklearn.model_selection import train_test_split\n",
    "x_train,x_test,y_train,y_test = train_test_split(features, quality, test_size=0.2, random_state=40)"
   ]
  },
  {
   "cell_type": "markdown",
   "id": "e59d8dd8",
   "metadata": {},
   "source": [
    "### Modeling\n",
    "\n",
    "*TODO*\n",
    "<li>Implement Multivariable Linear Regression using any 2 Regression algorithms of your choice</li>\n",
    "<li>Implement a Neural Network using Tensorflow and Keras to classify wine quality</li>"
   ]
  },
  {
   "cell_type": "markdown",
   "id": "fc097f19",
   "metadata": {},
   "source": [
    "**Starting with Linear Regression**"
   ]
  },
  {
   "cell_type": "code",
   "execution_count": 21,
   "id": "58d17953",
   "metadata": {},
   "outputs": [
    {
     "data": {
      "text/plain": [
       "LinearRegression()"
      ]
     },
     "execution_count": 21,
     "metadata": {},
     "output_type": "execute_result"
    }
   ],
   "source": [
    "from sklearn.linear_model import LinearRegression\n",
    "reg = LinearRegression()\n",
    "reg.fit(x_train, y_train)"
   ]
  },
  {
   "cell_type": "code",
   "execution_count": 22,
   "id": "4a949d5a",
   "metadata": {},
   "outputs": [
    {
     "data": {
      "text/plain": [
       "0.4183385391250293"
      ]
     },
     "execution_count": 22,
     "metadata": {},
     "output_type": "execute_result"
    }
   ],
   "source": [
    "reg.score(x_test, y_test)"
   ]
  },
  {
   "cell_type": "code",
   "execution_count": 23,
   "id": "aee2a8e5",
   "metadata": {},
   "outputs": [],
   "source": [
    "y_pred_reg=reg.predict(x_test)"
   ]
  },
  {
   "cell_type": "markdown",
   "id": "8d3b4b16",
   "metadata": {},
   "source": [
    "**Bayesian Ridge**"
   ]
  },
  {
   "cell_type": "code",
   "execution_count": 26,
   "id": "49c86ff2",
   "metadata": {},
   "outputs": [],
   "source": [
    "from sklearn import linear_model\n",
    "reg_byes = linear_model.BayesianRidge()"
   ]
  },
  {
   "cell_type": "code",
   "execution_count": 27,
   "id": "1075b28e",
   "metadata": {},
   "outputs": [
    {
     "data": {
      "text/plain": [
       "BayesianRidge()"
      ]
     },
     "execution_count": 27,
     "metadata": {},
     "output_type": "execute_result"
    }
   ],
   "source": [
    "reg_byes.fit(x_train, y_train)"
   ]
  },
  {
   "cell_type": "code",
   "execution_count": 28,
   "id": "59e8e444",
   "metadata": {},
   "outputs": [
    {
     "data": {
      "text/plain": [
       "0.41369474507843385"
      ]
     },
     "execution_count": 28,
     "metadata": {},
     "output_type": "execute_result"
    }
   ],
   "source": [
    "reg_byes.score(x_test, y_test)"
   ]
  },
  {
   "cell_type": "code",
   "execution_count": 29,
   "id": "9799b9b3",
   "metadata": {},
   "outputs": [],
   "source": [
    "y_pred_byes=reg_byes.predict(x_test)"
   ]
  },
  {
   "cell_type": "markdown",
   "id": "7fa07b82",
   "metadata": {},
   "source": [
    "# Neural Networks"
   ]
  },
  {
   "cell_type": "code",
   "execution_count": 30,
   "id": "83565b33",
   "metadata": {},
   "outputs": [],
   "source": [
    "input_shape=[11]"
   ]
  },
  {
   "cell_type": "code",
   "execution_count": 38,
   "id": "3013a7df",
   "metadata": {},
   "outputs": [],
   "source": [
    "from tensorflow import keras\n",
    "from keras import layers, optimizers, regularizers\n",
    "from keras.layers import Dense, Dropout, BatchNormalization, Activation\n",
    "from keras.models import Sequential\n",
    "from tensorflow.keras import layers\n",
    "model = keras.Sequential([\n",
    "    layers.Dense(512, activation='relu', input_shape=[11]),\n",
    "    layers.Dense(512, activation='relu'),\n",
    "    layers.Dense(512, activation='relu'),\n",
    "    layers.Dense(1),\n",
    "])"
   ]
  },
  {
   "cell_type": "code",
   "execution_count": 41,
   "id": "c197527b",
   "metadata": {},
   "outputs": [
    {
     "data": {
      "text/html": [
       "<div>\n",
       "<style scoped>\n",
       "    .dataframe tbody tr th:only-of-type {\n",
       "        vertical-align: middle;\n",
       "    }\n",
       "\n",
       "    .dataframe tbody tr th {\n",
       "        vertical-align: top;\n",
       "    }\n",
       "\n",
       "    .dataframe thead th {\n",
       "        text-align: right;\n",
       "    }\n",
       "</style>\n",
       "<table border=\"1\" class=\"dataframe\">\n",
       "  <thead>\n",
       "    <tr style=\"text-align: right;\">\n",
       "      <th></th>\n",
       "      <th>fixed acidity</th>\n",
       "      <th>volatile acidity</th>\n",
       "      <th>citric acid</th>\n",
       "      <th>residual sugar</th>\n",
       "      <th>chlorides</th>\n",
       "      <th>free sulfur dioxide</th>\n",
       "      <th>total sulfur dioxide</th>\n",
       "      <th>density</th>\n",
       "      <th>pH</th>\n",
       "      <th>sulphates</th>\n",
       "      <th>alcohol</th>\n",
       "      <th>quality_3</th>\n",
       "      <th>quality_4</th>\n",
       "      <th>quality_5</th>\n",
       "      <th>quality_6</th>\n",
       "      <th>quality_7</th>\n",
       "      <th>quality_8</th>\n",
       "    </tr>\n",
       "  </thead>\n",
       "  <tbody>\n",
       "    <tr>\n",
       "      <th>0</th>\n",
       "      <td>7.4</td>\n",
       "      <td>0.70</td>\n",
       "      <td>0.00</td>\n",
       "      <td>1.9</td>\n",
       "      <td>0.076</td>\n",
       "      <td>11.0</td>\n",
       "      <td>34.0</td>\n",
       "      <td>0.9978</td>\n",
       "      <td>3.51</td>\n",
       "      <td>0.56</td>\n",
       "      <td>9.4</td>\n",
       "      <td>0</td>\n",
       "      <td>0</td>\n",
       "      <td>1</td>\n",
       "      <td>0</td>\n",
       "      <td>0</td>\n",
       "      <td>0</td>\n",
       "    </tr>\n",
       "    <tr>\n",
       "      <th>1</th>\n",
       "      <td>7.8</td>\n",
       "      <td>0.88</td>\n",
       "      <td>0.00</td>\n",
       "      <td>2.6</td>\n",
       "      <td>0.098</td>\n",
       "      <td>25.0</td>\n",
       "      <td>67.0</td>\n",
       "      <td>0.9968</td>\n",
       "      <td>3.20</td>\n",
       "      <td>0.68</td>\n",
       "      <td>9.8</td>\n",
       "      <td>0</td>\n",
       "      <td>0</td>\n",
       "      <td>1</td>\n",
       "      <td>0</td>\n",
       "      <td>0</td>\n",
       "      <td>0</td>\n",
       "    </tr>\n",
       "    <tr>\n",
       "      <th>2</th>\n",
       "      <td>7.8</td>\n",
       "      <td>0.76</td>\n",
       "      <td>0.04</td>\n",
       "      <td>2.3</td>\n",
       "      <td>0.092</td>\n",
       "      <td>15.0</td>\n",
       "      <td>54.0</td>\n",
       "      <td>0.9970</td>\n",
       "      <td>3.26</td>\n",
       "      <td>0.65</td>\n",
       "      <td>9.8</td>\n",
       "      <td>0</td>\n",
       "      <td>0</td>\n",
       "      <td>1</td>\n",
       "      <td>0</td>\n",
       "      <td>0</td>\n",
       "      <td>0</td>\n",
       "    </tr>\n",
       "    <tr>\n",
       "      <th>3</th>\n",
       "      <td>11.2</td>\n",
       "      <td>0.28</td>\n",
       "      <td>0.56</td>\n",
       "      <td>1.9</td>\n",
       "      <td>0.075</td>\n",
       "      <td>17.0</td>\n",
       "      <td>60.0</td>\n",
       "      <td>0.9980</td>\n",
       "      <td>3.16</td>\n",
       "      <td>0.58</td>\n",
       "      <td>9.8</td>\n",
       "      <td>0</td>\n",
       "      <td>0</td>\n",
       "      <td>0</td>\n",
       "      <td>1</td>\n",
       "      <td>0</td>\n",
       "      <td>0</td>\n",
       "    </tr>\n",
       "    <tr>\n",
       "      <th>4</th>\n",
       "      <td>7.4</td>\n",
       "      <td>0.70</td>\n",
       "      <td>0.00</td>\n",
       "      <td>1.9</td>\n",
       "      <td>0.076</td>\n",
       "      <td>11.0</td>\n",
       "      <td>34.0</td>\n",
       "      <td>0.9978</td>\n",
       "      <td>3.51</td>\n",
       "      <td>0.56</td>\n",
       "      <td>9.4</td>\n",
       "      <td>0</td>\n",
       "      <td>0</td>\n",
       "      <td>1</td>\n",
       "      <td>0</td>\n",
       "      <td>0</td>\n",
       "      <td>0</td>\n",
       "    </tr>\n",
       "  </tbody>\n",
       "</table>\n",
       "</div>"
      ],
      "text/plain": [
       "   fixed acidity  volatile acidity  citric acid  residual sugar  chlorides  \\\n",
       "0            7.4              0.70         0.00             1.9      0.076   \n",
       "1            7.8              0.88         0.00             2.6      0.098   \n",
       "2            7.8              0.76         0.04             2.3      0.092   \n",
       "3           11.2              0.28         0.56             1.9      0.075   \n",
       "4            7.4              0.70         0.00             1.9      0.076   \n",
       "\n",
       "   free sulfur dioxide  total sulfur dioxide  density    pH  sulphates  \\\n",
       "0                 11.0                  34.0   0.9978  3.51       0.56   \n",
       "1                 25.0                  67.0   0.9968  3.20       0.68   \n",
       "2                 15.0                  54.0   0.9970  3.26       0.65   \n",
       "3                 17.0                  60.0   0.9980  3.16       0.58   \n",
       "4                 11.0                  34.0   0.9978  3.51       0.56   \n",
       "\n",
       "   alcohol  quality_3  quality_4  quality_5  quality_6  quality_7  quality_8  \n",
       "0      9.4          0          0          1          0          0          0  \n",
       "1      9.8          0          0          1          0          0          0  \n",
       "2      9.8          0          0          1          0          0          0  \n",
       "3      9.8          0          0          0          1          0          0  \n",
       "4      9.4          0          0          1          0          0          0  "
      ]
     },
     "execution_count": 41,
     "metadata": {},
     "output_type": "execute_result"
    }
   ],
   "source": [
    "\n",
    "df[\"quality\"] =df[\"quality\"].astype(int)\n",
    "df = pd.get_dummies(df, columns=[\"quality\"])\n",
    "df.head(5)"
   ]
  },
  {
   "cell_type": "code",
   "execution_count": 43,
   "id": "a78b72e7",
   "metadata": {},
   "outputs": [
    {
     "name": "stdout",
     "output_type": "stream",
     "text": [
      "(1279, 11) (1279, 5) (320, 11) (320, 5)\n"
     ]
    }
   ],
   "source": [
    "from sklearn import preprocessing, model_selection \n",
    "\n",
    "X = df.iloc[:,0:11].values # first columns\n",
    "Y = df.iloc[:,12:].values # last columns\n",
    "\n",
    "X = preprocessing.normalize(X, axis = 0)\n",
    "\n",
    "X_train,X_test,Y_train,Y_test = model_selection.train_test_split(X,Y,test_size=0.2)\n",
    "\n",
    "print(X_train.shape,Y_train.shape,X_test.shape,Y_test.shape)"
   ]
  },
  {
   "cell_type": "code",
   "execution_count": 44,
   "id": "e457a5c7",
   "metadata": {},
   "outputs": [],
   "source": [
    "winemod1 = Sequential()\n",
    "# layer 1\n",
    "winemod1.add(Dense(30, input_dim=11, activation='relu', name='fc0',kernel_regularizer=regularizers.l2(0.01)))\n",
    "winemod1.add(BatchNormalization(momentum=0.99, epsilon=0.001))\n",
    "#layer 2\n",
    "winemod1.add(Dense(50, name='fc1',bias_initializer='zeros'))\n",
    "winemod1.add(BatchNormalization(momentum=0.99, epsilon=0.001))\n",
    "winemod1.add(Activation('tanh'))\n",
    "winemod1.add(Dropout(0.5))\n",
    "#layer 3\n",
    "winemod1.add(Dense(100, name='fc2',bias_initializer='zeros'))\n",
    "winemod1.add(BatchNormalization(momentum=0.99, epsilon=0.001))\n",
    "winemod1.add(Activation('relu'))\n",
    "winemod1.add(Dropout(0.5))\n",
    "#layer 4\n",
    "winemod1.add(Dense(5, name='fc3',bias_initializer='zeros'))\n",
    "winemod1.add(BatchNormalization(momentum=0.99, epsilon=0.001))\n",
    "winemod1.add(Activation('softmax'))"
   ]
  },
  {
   "cell_type": "code",
   "execution_count": 45,
   "id": "a4ac64bd",
   "metadata": {},
   "outputs": [
    {
     "data": {
      "text/plain": [
       "<bound method Model.summary of <keras.engine.sequential.Sequential object at 0x7ff7bebacb20>>"
      ]
     },
     "execution_count": 45,
     "metadata": {},
     "output_type": "execute_result"
    }
   ],
   "source": [
    "winemod1.summary"
   ]
  },
  {
   "cell_type": "code",
   "execution_count": 55,
   "metadata": {},
   "outputs": [],
   "source": [
    "\n",
    "winemod1.compile( loss = \"categorical_crossentropy\", metrics = [\"categorical_accuracy\"])"
   ]
  },
  {
   "cell_type": "code",
   "execution_count": 56,
   "id": "a1576f8b",
   "metadata": {},
   "outputs": [
    {
     "name": "stdout",
     "output_type": "stream",
     "text": [
      "Epoch 1/200\n",
      "20/20 [==============================] - 4s 27ms/step - loss: 1.9863 - categorical_accuracy: 0.2267 - val_loss: 1.7485 - val_categorical_accuracy: 0.0406\n",
      "Epoch 2/200\n",
      "20/20 [==============================] - 0s 7ms/step - loss: 1.8288 - categorical_accuracy: 0.2643 - val_loss: 1.7294 - val_categorical_accuracy: 0.1094\n",
      "Epoch 3/200\n",
      "20/20 [==============================] - 0s 9ms/step - loss: 1.7541 - categorical_accuracy: 0.2979 - val_loss: 1.7111 - val_categorical_accuracy: 0.3406\n",
      "Epoch 4/200\n",
      "20/20 [==============================] - 0s 8ms/step - loss: 1.6638 - categorical_accuracy: 0.3409 - val_loss: 1.6880 - val_categorical_accuracy: 0.3656\n",
      "Epoch 5/200\n",
      "20/20 [==============================] - 0s 10ms/step - loss: 1.6217 - categorical_accuracy: 0.3597 - val_loss: 1.6628 - val_categorical_accuracy: 0.3688\n",
      "Epoch 6/200\n",
      "20/20 [==============================] - 0s 10ms/step - loss: 1.5484 - categorical_accuracy: 0.4011 - val_loss: 1.6383 - val_categorical_accuracy: 0.3688\n",
      "Epoch 7/200\n",
      "20/20 [==============================] - 0s 10ms/step - loss: 1.5235 - categorical_accuracy: 0.4230 - val_loss: 1.6164 - val_categorical_accuracy: 0.3688\n",
      "Epoch 8/200\n",
      "20/20 [==============================] - 0s 15ms/step - loss: 1.4781 - categorical_accuracy: 0.4527 - val_loss: 1.5943 - val_categorical_accuracy: 0.3688\n",
      "Epoch 9/200\n",
      "20/20 [==============================] - 0s 10ms/step - loss: 1.4484 - categorical_accuracy: 0.4699 - val_loss: 1.5698 - val_categorical_accuracy: 0.3688\n",
      "Epoch 10/200\n",
      "20/20 [==============================] - 0s 11ms/step - loss: 1.4197 - categorical_accuracy: 0.4980 - val_loss: 1.5478 - val_categorical_accuracy: 0.3719\n",
      "Epoch 11/200\n",
      "20/20 [==============================] - 0s 12ms/step - loss: 1.3715 - categorical_accuracy: 0.5309 - val_loss: 1.5232 - val_categorical_accuracy: 0.3781\n",
      "Epoch 12/200\n",
      "20/20 [==============================] - 0s 19ms/step - loss: 1.3548 - categorical_accuracy: 0.5434 - val_loss: 1.5025 - val_categorical_accuracy: 0.3906\n",
      "Epoch 13/200\n",
      "20/20 [==============================] - 0s 10ms/step - loss: 1.3158 - categorical_accuracy: 0.5567 - val_loss: 1.4820 - val_categorical_accuracy: 0.3781\n",
      "Epoch 14/200\n",
      "20/20 [==============================] - 0s 10ms/step - loss: 1.3104 - categorical_accuracy: 0.5442 - val_loss: 1.4658 - val_categorical_accuracy: 0.3844\n",
      "Epoch 15/200\n",
      "20/20 [==============================] - 0s 12ms/step - loss: 1.2754 - categorical_accuracy: 0.5739 - val_loss: 1.4443 - val_categorical_accuracy: 0.4000\n",
      "Epoch 16/200\n",
      "20/20 [==============================] - 0s 11ms/step - loss: 1.2486 - categorical_accuracy: 0.5653 - val_loss: 1.4208 - val_categorical_accuracy: 0.4406\n",
      "Epoch 17/200\n",
      "20/20 [==============================] - 0s 15ms/step - loss: 1.2462 - categorical_accuracy: 0.5536 - val_loss: 1.4057 - val_categorical_accuracy: 0.4125\n",
      "Epoch 18/200\n",
      "20/20 [==============================] - 0s 14ms/step - loss: 1.2366 - categorical_accuracy: 0.5731 - val_loss: 1.3902 - val_categorical_accuracy: 0.4125\n",
      "Epoch 19/200\n",
      "20/20 [==============================] - 0s 12ms/step - loss: 1.2178 - categorical_accuracy: 0.5762 - val_loss: 1.3934 - val_categorical_accuracy: 0.4062\n",
      "Epoch 20/200\n",
      "20/20 [==============================] - 0s 12ms/step - loss: 1.1969 - categorical_accuracy: 0.5880 - val_loss: 1.4190 - val_categorical_accuracy: 0.3875\n",
      "Epoch 21/200\n",
      "20/20 [==============================] - 0s 13ms/step - loss: 1.1696 - categorical_accuracy: 0.5887 - val_loss: 1.3671 - val_categorical_accuracy: 0.4062\n",
      "Epoch 22/200\n",
      "20/20 [==============================] - 0s 11ms/step - loss: 1.1760 - categorical_accuracy: 0.5715 - val_loss: 1.3195 - val_categorical_accuracy: 0.4219\n",
      "Epoch 23/200\n",
      "20/20 [==============================] - 0s 16ms/step - loss: 1.1711 - categorical_accuracy: 0.5653 - val_loss: 1.3241 - val_categorical_accuracy: 0.4219\n",
      "Epoch 24/200\n",
      "20/20 [==============================] - 0s 17ms/step - loss: 1.1500 - categorical_accuracy: 0.5887 - val_loss: 1.2722 - val_categorical_accuracy: 0.5312\n",
      "Epoch 25/200\n",
      "20/20 [==============================] - 0s 13ms/step - loss: 1.1519 - categorical_accuracy: 0.5708 - val_loss: 1.2863 - val_categorical_accuracy: 0.4281\n",
      "Epoch 26/200\n",
      "20/20 [==============================] - 0s 18ms/step - loss: 1.1179 - categorical_accuracy: 0.5708 - val_loss: 1.2842 - val_categorical_accuracy: 0.4094\n",
      "Epoch 27/200\n",
      "20/20 [==============================] - 0s 11ms/step - loss: 1.1304 - categorical_accuracy: 0.5700 - val_loss: 1.2129 - val_categorical_accuracy: 0.5188\n",
      "Epoch 28/200\n",
      "20/20 [==============================] - 0s 13ms/step - loss: 1.1114 - categorical_accuracy: 0.5731 - val_loss: 1.2534 - val_categorical_accuracy: 0.4844\n",
      "Epoch 29/200\n",
      "20/20 [==============================] - 0s 13ms/step - loss: 1.0943 - categorical_accuracy: 0.5801 - val_loss: 1.2520 - val_categorical_accuracy: 0.4656\n",
      "Epoch 30/200\n",
      "20/20 [==============================] - 0s 14ms/step - loss: 1.0934 - categorical_accuracy: 0.5911 - val_loss: 1.2202 - val_categorical_accuracy: 0.5312\n",
      "Epoch 31/200\n",
      "20/20 [==============================] - 0s 15ms/step - loss: 1.0916 - categorical_accuracy: 0.5715 - val_loss: 1.1874 - val_categorical_accuracy: 0.5156\n",
      "Epoch 32/200\n",
      "20/20 [==============================] - 0s 15ms/step - loss: 1.0596 - categorical_accuracy: 0.5817 - val_loss: 1.1599 - val_categorical_accuracy: 0.5906\n",
      "Epoch 33/200\n",
      "20/20 [==============================] - 0s 10ms/step - loss: 1.0933 - categorical_accuracy: 0.5668 - val_loss: 1.1582 - val_categorical_accuracy: 0.5531\n",
      "Epoch 34/200\n",
      "20/20 [==============================] - 0s 13ms/step - loss: 1.0635 - categorical_accuracy: 0.5950 - val_loss: 1.1562 - val_categorical_accuracy: 0.5969\n",
      "Epoch 35/200\n",
      "20/20 [==============================] - 0s 10ms/step - loss: 1.0443 - categorical_accuracy: 0.5958 - val_loss: 1.1604 - val_categorical_accuracy: 0.5562\n",
      "Epoch 36/200\n",
      "20/20 [==============================] - 0s 10ms/step - loss: 1.0588 - categorical_accuracy: 0.5825 - val_loss: 1.1334 - val_categorical_accuracy: 0.5844\n",
      "Epoch 37/200\n",
      "20/20 [==============================] - 0s 16ms/step - loss: 1.0445 - categorical_accuracy: 0.5958 - val_loss: 1.2189 - val_categorical_accuracy: 0.4844\n",
      "Epoch 38/200\n",
      "20/20 [==============================] - 0s 18ms/step - loss: 1.0298 - categorical_accuracy: 0.6075 - val_loss: 1.1458 - val_categorical_accuracy: 0.5969\n",
      "Epoch 39/200\n",
      "20/20 [==============================] - 0s 11ms/step - loss: 1.0295 - categorical_accuracy: 0.5997 - val_loss: 1.1497 - val_categorical_accuracy: 0.5938\n",
      "Epoch 40/200\n",
      "20/20 [==============================] - 0s 11ms/step - loss: 1.0311 - categorical_accuracy: 0.5801 - val_loss: 1.1693 - val_categorical_accuracy: 0.4938\n",
      "Epoch 41/200\n",
      "20/20 [==============================] - 0s 12ms/step - loss: 1.0225 - categorical_accuracy: 0.5825 - val_loss: 1.2342 - val_categorical_accuracy: 0.4500\n",
      "Epoch 42/200\n",
      "20/20 [==============================] - 0s 15ms/step - loss: 0.9984 - categorical_accuracy: 0.6013 - val_loss: 1.1747 - val_categorical_accuracy: 0.4781\n",
      "Epoch 43/200\n",
      "20/20 [==============================] - 0s 10ms/step - loss: 1.0032 - categorical_accuracy: 0.6044 - val_loss: 1.1067 - val_categorical_accuracy: 0.5875\n",
      "Epoch 44/200\n",
      "20/20 [==============================] - 0s 11ms/step - loss: 1.0122 - categorical_accuracy: 0.5864 - val_loss: 1.0699 - val_categorical_accuracy: 0.5781\n",
      "Epoch 45/200\n",
      "20/20 [==============================] - 0s 12ms/step - loss: 1.0105 - categorical_accuracy: 0.5966 - val_loss: 1.2291 - val_categorical_accuracy: 0.4875\n",
      "Epoch 46/200\n",
      "20/20 [==============================] - 0s 17ms/step - loss: 1.0163 - categorical_accuracy: 0.5895 - val_loss: 1.1670 - val_categorical_accuracy: 0.5031\n",
      "Epoch 47/200\n",
      "20/20 [==============================] - 0s 13ms/step - loss: 0.9990 - categorical_accuracy: 0.5942 - val_loss: 1.2165 - val_categorical_accuracy: 0.4781\n",
      "Epoch 48/200\n",
      "20/20 [==============================] - 0s 10ms/step - loss: 0.9868 - categorical_accuracy: 0.6013 - val_loss: 1.1067 - val_categorical_accuracy: 0.5844\n",
      "Epoch 49/200\n",
      "20/20 [==============================] - 0s 9ms/step - loss: 0.9847 - categorical_accuracy: 0.6044 - val_loss: 1.1031 - val_categorical_accuracy: 0.5656\n",
      "Epoch 50/200\n",
      "20/20 [==============================] - 0s 10ms/step - loss: 0.9951 - categorical_accuracy: 0.5880 - val_loss: 1.1858 - val_categorical_accuracy: 0.5000\n",
      "Epoch 51/200\n",
      "20/20 [==============================] - 0s 11ms/step - loss: 0.9938 - categorical_accuracy: 0.5958 - val_loss: 1.1233 - val_categorical_accuracy: 0.5813\n",
      "Epoch 52/200\n",
      "20/20 [==============================] - 0s 12ms/step - loss: 0.9772 - categorical_accuracy: 0.6177 - val_loss: 1.1605 - val_categorical_accuracy: 0.5656\n",
      "Epoch 53/200\n",
      "20/20 [==============================] - 0s 19ms/step - loss: 0.9684 - categorical_accuracy: 0.5895 - val_loss: 1.1318 - val_categorical_accuracy: 0.5531\n",
      "Epoch 54/200\n",
      "20/20 [==============================] - 0s 9ms/step - loss: 0.9627 - categorical_accuracy: 0.5981 - val_loss: 1.0452 - val_categorical_accuracy: 0.5969\n",
      "Epoch 55/200\n",
      "20/20 [==============================] - 0s 15ms/step - loss: 0.9716 - categorical_accuracy: 0.5997 - val_loss: 1.5145 - val_categorical_accuracy: 0.3719\n",
      "Epoch 56/200\n",
      "20/20 [==============================] - 0s 12ms/step - loss: 0.9593 - categorical_accuracy: 0.6036 - val_loss: 1.2462 - val_categorical_accuracy: 0.4594\n",
      "Epoch 57/200\n",
      "20/20 [==============================] - 0s 10ms/step - loss: 0.9582 - categorical_accuracy: 0.6145 - val_loss: 1.1318 - val_categorical_accuracy: 0.4969\n",
      "Epoch 58/200\n",
      "20/20 [==============================] - 0s 10ms/step - loss: 0.9702 - categorical_accuracy: 0.5958 - val_loss: 1.1086 - val_categorical_accuracy: 0.5531\n",
      "Epoch 59/200\n",
      "20/20 [==============================] - 0s 18ms/step - loss: 0.9620 - categorical_accuracy: 0.5973 - val_loss: 1.1582 - val_categorical_accuracy: 0.5813\n",
      "Epoch 60/200\n",
      "20/20 [==============================] - 0s 9ms/step - loss: 0.9487 - categorical_accuracy: 0.6052 - val_loss: 1.1642 - val_categorical_accuracy: 0.5844\n",
      "Epoch 61/200\n",
      "20/20 [==============================] - 0s 9ms/step - loss: 0.9673 - categorical_accuracy: 0.5841 - val_loss: 1.1502 - val_categorical_accuracy: 0.5437\n",
      "Epoch 62/200\n",
      "20/20 [==============================] - 0s 12ms/step - loss: 0.9548 - categorical_accuracy: 0.5872 - val_loss: 1.1478 - val_categorical_accuracy: 0.4719\n",
      "Epoch 63/200\n",
      "20/20 [==============================] - 0s 13ms/step - loss: 0.9500 - categorical_accuracy: 0.5950 - val_loss: 1.1115 - val_categorical_accuracy: 0.5063\n",
      "Epoch 64/200\n",
      "20/20 [==============================] - 0s 13ms/step - loss: 0.9547 - categorical_accuracy: 0.5895 - val_loss: 1.0386 - val_categorical_accuracy: 0.6094\n",
      "Epoch 65/200\n",
      "20/20 [==============================] - 0s 9ms/step - loss: 0.9524 - categorical_accuracy: 0.5958 - val_loss: 1.0934 - val_categorical_accuracy: 0.5562\n",
      "Epoch 66/200\n",
      "20/20 [==============================] - 0s 11ms/step - loss: 0.9550 - categorical_accuracy: 0.5872 - val_loss: 1.1058 - val_categorical_accuracy: 0.5719\n",
      "Epoch 67/200\n",
      "20/20 [==============================] - 0s 10ms/step - loss: 0.9479 - categorical_accuracy: 0.6059 - val_loss: 1.1570 - val_categorical_accuracy: 0.5000\n",
      "Epoch 68/200\n",
      "20/20 [==============================] - 0s 11ms/step - loss: 0.9474 - categorical_accuracy: 0.6099 - val_loss: 1.3288 - val_categorical_accuracy: 0.4625\n",
      "Epoch 69/200\n",
      "20/20 [==============================] - 0s 20ms/step - loss: 0.9501 - categorical_accuracy: 0.5919 - val_loss: 1.0935 - val_categorical_accuracy: 0.5531\n",
      "Epoch 70/200\n",
      "20/20 [==============================] - ETA: 0s - loss: 0.9337 - categorical_accuracy: 0.61 - 0s 13ms/step - loss: 0.9308 - categorical_accuracy: 0.6106 - val_loss: 1.1238 - val_categorical_accuracy: 0.4969\n",
      "Epoch 71/200\n",
      "20/20 [==============================] - 1s 34ms/step - loss: 0.9516 - categorical_accuracy: 0.5927 - val_loss: 1.0783 - val_categorical_accuracy: 0.5844\n",
      "Epoch 72/200\n",
      "20/20 [==============================] - 0s 21ms/step - loss: 0.9429 - categorical_accuracy: 0.6091 - val_loss: 1.1759 - val_categorical_accuracy: 0.5156\n",
      "Epoch 73/200\n",
      "20/20 [==============================] - 0s 15ms/step - loss: 0.9307 - categorical_accuracy: 0.6028 - val_loss: 1.0715 - val_categorical_accuracy: 0.5562\n",
      "Epoch 74/200\n",
      "20/20 [==============================] - 0s 16ms/step - loss: 0.9353 - categorical_accuracy: 0.5989 - val_loss: 1.0601 - val_categorical_accuracy: 0.5688\n",
      "Epoch 75/200\n",
      "20/20 [==============================] - 0s 15ms/step - loss: 0.9453 - categorical_accuracy: 0.5731 - val_loss: 1.1797 - val_categorical_accuracy: 0.5469\n",
      "Epoch 76/200\n",
      "20/20 [==============================] - 0s 10ms/step - loss: 0.9441 - categorical_accuracy: 0.5966 - val_loss: 1.0873 - val_categorical_accuracy: 0.5781\n",
      "Epoch 77/200\n",
      "20/20 [==============================] - 0s 15ms/step - loss: 0.9264 - categorical_accuracy: 0.5950 - val_loss: 1.1710 - val_categorical_accuracy: 0.5688\n",
      "Epoch 78/200\n",
      "20/20 [==============================] - 0s 11ms/step - loss: 0.9324 - categorical_accuracy: 0.6059 - val_loss: 1.1222 - val_categorical_accuracy: 0.4563\n",
      "Epoch 79/200\n",
      "20/20 [==============================] - 0s 10ms/step - loss: 0.9424 - categorical_accuracy: 0.5950 - val_loss: 1.1413 - val_categorical_accuracy: 0.5531\n",
      "Epoch 80/200\n",
      "20/20 [==============================] - 0s 13ms/step - loss: 0.9340 - categorical_accuracy: 0.5880 - val_loss: 1.1377 - val_categorical_accuracy: 0.5844\n",
      "Epoch 81/200\n",
      "20/20 [==============================] - 0s 18ms/step - loss: 0.9160 - categorical_accuracy: 0.6106 - val_loss: 1.2154 - val_categorical_accuracy: 0.4094\n",
      "Epoch 82/200\n",
      "20/20 [==============================] - 0s 18ms/step - loss: 0.9360 - categorical_accuracy: 0.5950 - val_loss: 1.3434 - val_categorical_accuracy: 0.4250\n",
      "Epoch 83/200\n",
      "20/20 [==============================] - 0s 15ms/step - loss: 0.9297 - categorical_accuracy: 0.5950 - val_loss: 1.2216 - val_categorical_accuracy: 0.4719\n",
      "Epoch 84/200\n",
      "20/20 [==============================] - 0s 11ms/step - loss: 0.9213 - categorical_accuracy: 0.5934 - val_loss: 1.2351 - val_categorical_accuracy: 0.4719\n",
      "Epoch 85/200\n",
      "20/20 [==============================] - 0s 10ms/step - loss: 0.9201 - categorical_accuracy: 0.5981 - val_loss: 1.2410 - val_categorical_accuracy: 0.4531\n",
      "Epoch 86/200\n",
      "20/20 [==============================] - 0s 20ms/step - loss: 0.9214 - categorical_accuracy: 0.5919 - val_loss: 1.1666 - val_categorical_accuracy: 0.5219\n",
      "Epoch 87/200\n",
      "20/20 [==============================] - 0s 19ms/step - loss: 0.9224 - categorical_accuracy: 0.5927 - val_loss: 1.1919 - val_categorical_accuracy: 0.5094\n",
      "Epoch 88/200\n",
      "20/20 [==============================] - 0s 15ms/step - loss: 0.9203 - categorical_accuracy: 0.6005 - val_loss: 1.1020 - val_categorical_accuracy: 0.5844\n",
      "Epoch 89/200\n",
      "20/20 [==============================] - 0s 16ms/step - loss: 0.9183 - categorical_accuracy: 0.5942 - val_loss: 1.1378 - val_categorical_accuracy: 0.4656\n",
      "Epoch 90/200\n",
      "20/20 [==============================] - 0s 11ms/step - loss: 0.9155 - categorical_accuracy: 0.6005 - val_loss: 1.3319 - val_categorical_accuracy: 0.3812\n",
      "Epoch 91/200\n",
      "20/20 [==============================] - 0s 13ms/step - loss: 0.9220 - categorical_accuracy: 0.5989 - val_loss: 1.5248 - val_categorical_accuracy: 0.3125\n",
      "Epoch 92/200\n",
      "20/20 [==============================] - 1s 29ms/step - loss: 0.9076 - categorical_accuracy: 0.6059 - val_loss: 1.5145 - val_categorical_accuracy: 0.3594\n",
      "Epoch 93/200\n",
      "20/20 [==============================] - 0s 12ms/step - loss: 0.9027 - categorical_accuracy: 0.6013 - val_loss: 1.1426 - val_categorical_accuracy: 0.4844\n",
      "Epoch 94/200\n",
      "20/20 [==============================] - 0s 14ms/step - loss: 0.9380 - categorical_accuracy: 0.5841 - val_loss: 1.5745 - val_categorical_accuracy: 0.3156\n",
      "Epoch 95/200\n",
      "20/20 [==============================] - 0s 17ms/step - loss: 0.9087 - categorical_accuracy: 0.6208 - val_loss: 1.6658 - val_categorical_accuracy: 0.3250\n",
      "Epoch 96/200\n",
      "20/20 [==============================] - 0s 9ms/step - loss: 0.9178 - categorical_accuracy: 0.5942 - val_loss: 1.7522 - val_categorical_accuracy: 0.3219\n",
      "Epoch 97/200\n",
      "20/20 [==============================] - 0s 13ms/step - loss: 0.9139 - categorical_accuracy: 0.5989 - val_loss: 1.6611 - val_categorical_accuracy: 0.3406\n",
      "Epoch 98/200\n",
      "20/20 [==============================] - 0s 11ms/step - loss: 0.9203 - categorical_accuracy: 0.5997 - val_loss: 1.3270 - val_categorical_accuracy: 0.4094\n",
      "Epoch 99/200\n",
      "20/20 [==============================] - 0s 13ms/step - loss: 0.8946 - categorical_accuracy: 0.6075 - val_loss: 1.1545 - val_categorical_accuracy: 0.4563\n",
      "Epoch 100/200\n",
      "20/20 [==============================] - 0s 9ms/step - loss: 0.9295 - categorical_accuracy: 0.5786 - val_loss: 1.1351 - val_categorical_accuracy: 0.4625\n",
      "Epoch 101/200\n",
      "20/20 [==============================] - 0s 11ms/step - loss: 0.9140 - categorical_accuracy: 0.6028 - val_loss: 1.1838 - val_categorical_accuracy: 0.5156\n",
      "Epoch 102/200\n",
      "20/20 [==============================] - 0s 16ms/step - loss: 0.9003 - categorical_accuracy: 0.6138 - val_loss: 1.2834 - val_categorical_accuracy: 0.4500\n",
      "Epoch 103/200\n",
      "20/20 [==============================] - 0s 13ms/step - loss: 0.9089 - categorical_accuracy: 0.6052 - val_loss: 1.3354 - val_categorical_accuracy: 0.4281\n",
      "Epoch 104/200\n",
      "20/20 [==============================] - 0s 11ms/step - loss: 0.9093 - categorical_accuracy: 0.6106 - val_loss: 1.2106 - val_categorical_accuracy: 0.5063\n",
      "Epoch 105/200\n",
      "20/20 [==============================] - 0s 9ms/step - loss: 0.9137 - categorical_accuracy: 0.6005 - val_loss: 1.4112 - val_categorical_accuracy: 0.4219\n",
      "Epoch 106/200\n",
      "20/20 [==============================] - 0s 9ms/step - loss: 0.9080 - categorical_accuracy: 0.6020 - val_loss: 1.5080 - val_categorical_accuracy: 0.4187\n",
      "Epoch 107/200\n",
      "20/20 [==============================] - 1s 27ms/step - loss: 0.9067 - categorical_accuracy: 0.6138 - val_loss: 1.4132 - val_categorical_accuracy: 0.4187\n",
      "Epoch 108/200\n",
      "20/20 [==============================] - 0s 16ms/step - loss: 0.8973 - categorical_accuracy: 0.6013 - val_loss: 1.3142 - val_categorical_accuracy: 0.4281\n",
      "Epoch 109/200\n",
      "20/20 [==============================] - 0s 16ms/step - loss: 0.8998 - categorical_accuracy: 0.6036 - val_loss: 1.3873 - val_categorical_accuracy: 0.4156\n",
      "Epoch 110/200\n",
      "20/20 [==============================] - 0s 15ms/step - loss: 0.8889 - categorical_accuracy: 0.6099 - val_loss: 1.2800 - val_categorical_accuracy: 0.4437\n",
      "Epoch 111/200\n",
      "20/20 [==============================] - 0s 13ms/step - loss: 0.9072 - categorical_accuracy: 0.5856 - val_loss: 1.2770 - val_categorical_accuracy: 0.4594\n",
      "Epoch 112/200\n",
      "20/20 [==============================] - 0s 17ms/step - loss: 0.8968 - categorical_accuracy: 0.6083 - val_loss: 1.2593 - val_categorical_accuracy: 0.4719\n",
      "Epoch 113/200\n",
      "20/20 [==============================] - 0s 13ms/step - loss: 0.9156 - categorical_accuracy: 0.6013 - val_loss: 1.1803 - val_categorical_accuracy: 0.5219\n",
      "Epoch 114/200\n",
      "20/20 [==============================] - 0s 11ms/step - loss: 0.8976 - categorical_accuracy: 0.6067 - val_loss: 1.2382 - val_categorical_accuracy: 0.4812\n",
      "Epoch 115/200\n",
      "20/20 [==============================] - 0s 16ms/step - loss: 0.9006 - categorical_accuracy: 0.6020 - val_loss: 1.2740 - val_categorical_accuracy: 0.4500\n",
      "Epoch 116/200\n",
      "20/20 [==============================] - 0s 10ms/step - loss: 0.9085 - categorical_accuracy: 0.5973 - val_loss: 1.2027 - val_categorical_accuracy: 0.4938\n",
      "Epoch 117/200\n",
      "20/20 [==============================] - 0s 17ms/step - loss: 0.9138 - categorical_accuracy: 0.6020 - val_loss: 1.0907 - val_categorical_accuracy: 0.5500\n",
      "Epoch 118/200\n",
      "20/20 [==============================] - 0s 12ms/step - loss: 0.9005 - categorical_accuracy: 0.6138 - val_loss: 1.2464 - val_categorical_accuracy: 0.4906\n",
      "Epoch 119/200\n",
      "20/20 [==============================] - 0s 14ms/step - loss: 0.9012 - categorical_accuracy: 0.5950 - val_loss: 1.3265 - val_categorical_accuracy: 0.4250\n",
      "Epoch 120/200\n",
      "20/20 [==============================] - 0s 14ms/step - loss: 0.8901 - categorical_accuracy: 0.6208 - val_loss: 1.1057 - val_categorical_accuracy: 0.5906\n",
      "Epoch 121/200\n",
      "20/20 [==============================] - 0s 9ms/step - loss: 0.9027 - categorical_accuracy: 0.5950 - val_loss: 1.5281 - val_categorical_accuracy: 0.4156\n",
      "Epoch 122/200\n",
      "20/20 [==============================] - 0s 14ms/step - loss: 0.8852 - categorical_accuracy: 0.6192 - val_loss: 1.0641 - val_categorical_accuracy: 0.5875\n",
      "Epoch 123/200\n",
      "20/20 [==============================] - 0s 9ms/step - loss: 0.8911 - categorical_accuracy: 0.6036 - val_loss: 1.4469 - val_categorical_accuracy: 0.4187\n",
      "Epoch 124/200\n",
      "20/20 [==============================] - 0s 13ms/step - loss: 0.9069 - categorical_accuracy: 0.6028 - val_loss: 1.3285 - val_categorical_accuracy: 0.4500\n",
      "Epoch 125/200\n",
      "20/20 [==============================] - 0s 10ms/step - loss: 0.8849 - categorical_accuracy: 0.6138 - val_loss: 1.2123 - val_categorical_accuracy: 0.5156\n",
      "Epoch 126/200\n",
      "20/20 [==============================] - 0s 14ms/step - loss: 0.9072 - categorical_accuracy: 0.6114 - val_loss: 1.1304 - val_categorical_accuracy: 0.4531\n",
      "Epoch 127/200\n",
      "20/20 [==============================] - 0s 10ms/step - loss: 0.8800 - categorical_accuracy: 0.6067 - val_loss: 1.1076 - val_categorical_accuracy: 0.5125\n",
      "Epoch 128/200\n",
      "20/20 [==============================] - 0s 10ms/step - loss: 0.8827 - categorical_accuracy: 0.6099 - val_loss: 1.0512 - val_categorical_accuracy: 0.5844\n",
      "Epoch 129/200\n",
      "20/20 [==============================] - 0s 13ms/step - loss: 0.8892 - categorical_accuracy: 0.5981 - val_loss: 1.2033 - val_categorical_accuracy: 0.5469\n",
      "Epoch 130/200\n",
      "20/20 [==============================] - 0s 14ms/step - loss: 0.8983 - categorical_accuracy: 0.6036 - val_loss: 1.2508 - val_categorical_accuracy: 0.5312\n",
      "Epoch 131/200\n",
      "20/20 [==============================] - 0s 9ms/step - loss: 0.9042 - categorical_accuracy: 0.5973 - val_loss: 1.1981 - val_categorical_accuracy: 0.4031\n",
      "Epoch 132/200\n",
      "20/20 [==============================] - 0s 13ms/step - loss: 0.9057 - categorical_accuracy: 0.5895 - val_loss: 1.1409 - val_categorical_accuracy: 0.5469\n",
      "Epoch 133/200\n",
      "20/20 [==============================] - 0s 13ms/step - loss: 0.8920 - categorical_accuracy: 0.6138 - val_loss: 1.0379 - val_categorical_accuracy: 0.5844\n",
      "Epoch 134/200\n",
      "20/20 [==============================] - 0s 12ms/step - loss: 0.8882 - categorical_accuracy: 0.5864 - val_loss: 1.1805 - val_categorical_accuracy: 0.5219\n",
      "Epoch 135/200\n",
      "20/20 [==============================] - 0s 10ms/step - loss: 0.8910 - categorical_accuracy: 0.6067 - val_loss: 1.1235 - val_categorical_accuracy: 0.4781\n",
      "Epoch 136/200\n",
      "20/20 [==============================] - 0s 9ms/step - loss: 0.8899 - categorical_accuracy: 0.6138 - val_loss: 1.1645 - val_categorical_accuracy: 0.4531\n",
      "Epoch 137/200\n",
      "20/20 [==============================] - 0s 8ms/step - loss: 0.9070 - categorical_accuracy: 0.5997 - val_loss: 1.0960 - val_categorical_accuracy: 0.5719\n",
      "Epoch 138/200\n",
      "20/20 [==============================] - 0s 9ms/step - loss: 0.8903 - categorical_accuracy: 0.6091 - val_loss: 1.0768 - val_categorical_accuracy: 0.5750\n",
      "Epoch 139/200\n",
      "20/20 [==============================] - 0s 10ms/step - loss: 0.8932 - categorical_accuracy: 0.6020 - val_loss: 1.3237 - val_categorical_accuracy: 0.4469\n",
      "Epoch 140/200\n",
      "20/20 [==============================] - 0s 10ms/step - loss: 0.8842 - categorical_accuracy: 0.6192 - val_loss: 1.0945 - val_categorical_accuracy: 0.5625\n",
      "Epoch 141/200\n",
      "20/20 [==============================] - 0s 10ms/step - loss: 0.8830 - categorical_accuracy: 0.6208 - val_loss: 1.0704 - val_categorical_accuracy: 0.5938\n",
      "Epoch 142/200\n",
      "20/20 [==============================] - 0s 11ms/step - loss: 0.8885 - categorical_accuracy: 0.6052 - val_loss: 1.0913 - val_categorical_accuracy: 0.5781\n",
      "Epoch 143/200\n",
      "20/20 [==============================] - 0s 10ms/step - loss: 0.8887 - categorical_accuracy: 0.6138 - val_loss: 1.1004 - val_categorical_accuracy: 0.5813\n",
      "Epoch 144/200\n",
      "20/20 [==============================] - 0s 10ms/step - loss: 0.8935 - categorical_accuracy: 0.6013 - val_loss: 1.1462 - val_categorical_accuracy: 0.4594\n",
      "Epoch 145/200\n",
      "20/20 [==============================] - 0s 10ms/step - loss: 0.8925 - categorical_accuracy: 0.5887 - val_loss: 1.1349 - val_categorical_accuracy: 0.4875\n",
      "Epoch 146/200\n",
      "20/20 [==============================] - 0s 10ms/step - loss: 0.8843 - categorical_accuracy: 0.6153 - val_loss: 1.1315 - val_categorical_accuracy: 0.5844\n",
      "Epoch 147/200\n",
      "20/20 [==============================] - 0s 16ms/step - loss: 0.8874 - categorical_accuracy: 0.6067 - val_loss: 1.1330 - val_categorical_accuracy: 0.4250\n",
      "Epoch 148/200\n",
      "20/20 [==============================] - 0s 12ms/step - loss: 0.8734 - categorical_accuracy: 0.6130 - val_loss: 1.3192 - val_categorical_accuracy: 0.3844\n",
      "Epoch 149/200\n",
      "20/20 [==============================] - 0s 11ms/step - loss: 0.8872 - categorical_accuracy: 0.6005 - val_loss: 1.1178 - val_categorical_accuracy: 0.5781\n",
      "Epoch 150/200\n",
      "20/20 [==============================] - 0s 17ms/step - loss: 0.8908 - categorical_accuracy: 0.5966 - val_loss: 1.1534 - val_categorical_accuracy: 0.5312\n",
      "Epoch 151/200\n",
      "20/20 [==============================] - 0s 19ms/step - loss: 0.8800 - categorical_accuracy: 0.6114 - val_loss: 1.2282 - val_categorical_accuracy: 0.4594\n",
      "Epoch 152/200\n",
      "20/20 [==============================] - 0s 15ms/step - loss: 0.8829 - categorical_accuracy: 0.5989 - val_loss: 1.1518 - val_categorical_accuracy: 0.5281\n",
      "Epoch 153/200\n",
      "20/20 [==============================] - 0s 10ms/step - loss: 0.8839 - categorical_accuracy: 0.5942 - val_loss: 1.1250 - val_categorical_accuracy: 0.5469\n",
      "Epoch 154/200\n",
      "20/20 [==============================] - 0s 9ms/step - loss: 0.8959 - categorical_accuracy: 0.6044 - val_loss: 1.0821 - val_categorical_accuracy: 0.5437\n",
      "Epoch 155/200\n",
      "20/20 [==============================] - 0s 10ms/step - loss: 0.9166 - categorical_accuracy: 0.5973 - val_loss: 1.4563 - val_categorical_accuracy: 0.3969\n",
      "Epoch 156/200\n",
      "20/20 [==============================] - 0s 14ms/step - loss: 0.8959 - categorical_accuracy: 0.5950 - val_loss: 1.8293 - val_categorical_accuracy: 0.2781\n",
      "Epoch 157/200\n",
      "20/20 [==============================] - 0s 16ms/step - loss: 0.8836 - categorical_accuracy: 0.6044 - val_loss: 1.7581 - val_categorical_accuracy: 0.3094\n",
      "Epoch 158/200\n",
      "20/20 [==============================] - 0s 12ms/step - loss: 0.8958 - categorical_accuracy: 0.5997 - val_loss: 1.7841 - val_categorical_accuracy: 0.3156\n",
      "Epoch 159/200\n",
      "20/20 [==============================] - ETA: 0s - loss: 0.8944 - categorical_accuracy: 0.60 - 0s 9ms/step - loss: 0.8944 - categorical_accuracy: 0.6091 - val_loss: 1.6705 - val_categorical_accuracy: 0.3844\n",
      "Epoch 160/200\n",
      "20/20 [==============================] - 0s 10ms/step - loss: 0.8829 - categorical_accuracy: 0.6036 - val_loss: 1.1101 - val_categorical_accuracy: 0.4469\n",
      "Epoch 161/200\n",
      "20/20 [==============================] - 0s 10ms/step - loss: 0.8919 - categorical_accuracy: 0.5942 - val_loss: 1.2641 - val_categorical_accuracy: 0.4156\n",
      "Epoch 162/200\n",
      "20/20 [==============================] - 0s 12ms/step - loss: 0.8978 - categorical_accuracy: 0.6013 - val_loss: 1.0660 - val_categorical_accuracy: 0.5188\n",
      "Epoch 163/200\n",
      "20/20 [==============================] - 0s 11ms/step - loss: 0.8832 - categorical_accuracy: 0.6153 - val_loss: 1.0776 - val_categorical_accuracy: 0.5656\n",
      "Epoch 164/200\n",
      "20/20 [==============================] - 0s 10ms/step - loss: 0.8915 - categorical_accuracy: 0.6177 - val_loss: 1.1503 - val_categorical_accuracy: 0.5813\n",
      "Epoch 165/200\n",
      "20/20 [==============================] - 0s 13ms/step - loss: 0.8796 - categorical_accuracy: 0.5981 - val_loss: 1.1680 - val_categorical_accuracy: 0.4563\n",
      "Epoch 166/200\n",
      "20/20 [==============================] - 0s 10ms/step - loss: 0.8756 - categorical_accuracy: 0.6075 - val_loss: 1.3567 - val_categorical_accuracy: 0.4250\n",
      "Epoch 167/200\n",
      "20/20 [==============================] - 0s 10ms/step - loss: 0.8824 - categorical_accuracy: 0.6114 - val_loss: 1.0434 - val_categorical_accuracy: 0.6031\n",
      "Epoch 168/200\n",
      "20/20 [==============================] - 0s 11ms/step - loss: 0.8930 - categorical_accuracy: 0.6153 - val_loss: 1.1399 - val_categorical_accuracy: 0.4688\n",
      "Epoch 169/200\n",
      "20/20 [==============================] - 0s 12ms/step - loss: 0.8675 - categorical_accuracy: 0.6255 - val_loss: 1.0667 - val_categorical_accuracy: 0.5125\n",
      "Epoch 170/200\n",
      "20/20 [==============================] - 0s 15ms/step - loss: 0.8741 - categorical_accuracy: 0.6114 - val_loss: 1.1216 - val_categorical_accuracy: 0.4500\n",
      "Epoch 171/200\n",
      "20/20 [==============================] - 0s 7ms/step - loss: 0.8768 - categorical_accuracy: 0.6099 - val_loss: 1.1569 - val_categorical_accuracy: 0.5375\n",
      "Epoch 172/200\n",
      "20/20 [==============================] - 0s 11ms/step - loss: 0.8880 - categorical_accuracy: 0.6122 - val_loss: 1.1291 - val_categorical_accuracy: 0.5625\n",
      "Epoch 173/200\n",
      "20/20 [==============================] - 0s 13ms/step - loss: 0.8753 - categorical_accuracy: 0.6130 - val_loss: 1.2765 - val_categorical_accuracy: 0.4688\n",
      "Epoch 174/200\n",
      "20/20 [==============================] - 0s 11ms/step - loss: 0.8644 - categorical_accuracy: 0.6271 - val_loss: 1.3981 - val_categorical_accuracy: 0.4344\n",
      "Epoch 175/200\n",
      "20/20 [==============================] - 0s 8ms/step - loss: 0.8920 - categorical_accuracy: 0.6099 - val_loss: 1.8626 - val_categorical_accuracy: 0.4187\n",
      "Epoch 176/200\n",
      "20/20 [==============================] - 0s 8ms/step - loss: 0.8758 - categorical_accuracy: 0.6036 - val_loss: 1.6247 - val_categorical_accuracy: 0.4187\n",
      "Epoch 177/200\n",
      "20/20 [==============================] - 0s 14ms/step - loss: 0.8849 - categorical_accuracy: 0.6114 - val_loss: 1.6371 - val_categorical_accuracy: 0.4156\n",
      "Epoch 178/200\n",
      "20/20 [==============================] - 0s 11ms/step - loss: 0.8762 - categorical_accuracy: 0.6114 - val_loss: 1.5007 - val_categorical_accuracy: 0.4156\n",
      "Epoch 179/200\n",
      "20/20 [==============================] - 0s 9ms/step - loss: 0.8726 - categorical_accuracy: 0.6075 - val_loss: 1.4439 - val_categorical_accuracy: 0.4219\n",
      "Epoch 180/200\n",
      "20/20 [==============================] - 0s 11ms/step - loss: 0.8762 - categorical_accuracy: 0.6200 - val_loss: 1.3481 - val_categorical_accuracy: 0.4688\n",
      "Epoch 181/200\n",
      "20/20 [==============================] - 0s 9ms/step - loss: 0.8722 - categorical_accuracy: 0.6028 - val_loss: 1.3565 - val_categorical_accuracy: 0.4281\n",
      "Epoch 182/200\n",
      "20/20 [==============================] - 0s 10ms/step - loss: 0.8801 - categorical_accuracy: 0.5958 - val_loss: 1.2129 - val_categorical_accuracy: 0.3812\n",
      "Epoch 183/200\n",
      "20/20 [==============================] - 0s 13ms/step - loss: 0.8781 - categorical_accuracy: 0.6005 - val_loss: 1.1430 - val_categorical_accuracy: 0.4594\n",
      "Epoch 184/200\n",
      "20/20 [==============================] - 0s 11ms/step - loss: 0.8852 - categorical_accuracy: 0.6114 - val_loss: 1.0297 - val_categorical_accuracy: 0.5906\n",
      "Epoch 185/200\n",
      "20/20 [==============================] - 0s 12ms/step - loss: 0.8707 - categorical_accuracy: 0.6067 - val_loss: 1.0918 - val_categorical_accuracy: 0.5813\n",
      "Epoch 186/200\n",
      "20/20 [==============================] - 0s 9ms/step - loss: 0.8967 - categorical_accuracy: 0.5895 - val_loss: 1.2088 - val_categorical_accuracy: 0.4406\n",
      "Epoch 187/200\n",
      "20/20 [==============================] - 0s 17ms/step - loss: 0.8701 - categorical_accuracy: 0.6091 - val_loss: 1.2416 - val_categorical_accuracy: 0.4313\n",
      "Epoch 188/200\n",
      "20/20 [==============================] - ETA: 0s - loss: 0.8805 - categorical_accuracy: 0.61 - 0s 10ms/step - loss: 0.8783 - categorical_accuracy: 0.6138 - val_loss: 1.1308 - val_categorical_accuracy: 0.5344\n",
      "Epoch 189/200\n",
      "20/20 [==============================] - 0s 13ms/step - loss: 0.8787 - categorical_accuracy: 0.6224 - val_loss: 1.2624 - val_categorical_accuracy: 0.4250\n",
      "Epoch 190/200\n",
      "20/20 [==============================] - 0s 10ms/step - loss: 0.8631 - categorical_accuracy: 0.6052 - val_loss: 1.0961 - val_categorical_accuracy: 0.5750\n",
      "Epoch 191/200\n",
      "20/20 [==============================] - 0s 10ms/step - loss: 0.8820 - categorical_accuracy: 0.6075 - val_loss: 1.1654 - val_categorical_accuracy: 0.5156\n",
      "Epoch 192/200\n",
      "20/20 [==============================] - 0s 9ms/step - loss: 0.8734 - categorical_accuracy: 0.6200 - val_loss: 1.1262 - val_categorical_accuracy: 0.5875\n",
      "Epoch 193/200\n",
      "20/20 [==============================] - 0s 12ms/step - loss: 0.8816 - categorical_accuracy: 0.6185 - val_loss: 1.1376 - val_categorical_accuracy: 0.5906\n",
      "Epoch 194/200\n",
      "20/20 [==============================] - 0s 11ms/step - loss: 0.8842 - categorical_accuracy: 0.6106 - val_loss: 1.1545 - val_categorical_accuracy: 0.4531\n",
      "Epoch 195/200\n",
      "20/20 [==============================] - 0s 12ms/step - loss: 0.8935 - categorical_accuracy: 0.6013 - val_loss: 1.1083 - val_categorical_accuracy: 0.5156\n",
      "Epoch 196/200\n",
      "20/20 [==============================] - 0s 11ms/step - loss: 0.8741 - categorical_accuracy: 0.6177 - val_loss: 1.1734 - val_categorical_accuracy: 0.5719\n",
      "Epoch 197/200\n",
      "20/20 [==============================] - 0s 10ms/step - loss: 0.8748 - categorical_accuracy: 0.6122 - val_loss: 1.1017 - val_categorical_accuracy: 0.5312\n",
      "Epoch 198/200\n",
      "20/20 [==============================] - 0s 11ms/step - loss: 0.8777 - categorical_accuracy: 0.6052 - val_loss: 1.1445 - val_categorical_accuracy: 0.5719\n",
      "Epoch 199/200\n",
      "20/20 [==============================] - 0s 9ms/step - loss: 0.8608 - categorical_accuracy: 0.6130 - val_loss: 1.0751 - val_categorical_accuracy: 0.4625\n",
      "Epoch 200/200\n",
      "20/20 [==============================] - 0s 8ms/step - loss: 0.8785 - categorical_accuracy: 0.6161 - val_loss: 1.6983 - val_categorical_accuracy: 0.3719\n"
     ]
    }
   ],
   "source": [
    "history=winemod1.fit(x = X_train, y = Y_train, epochs = 200,verbose=1, batch_size = 64,validation_data=(X_test, Y_test))"
   ]
  },
  {
   "cell_type": "code",
   "execution_count": 57,
   "id": "bc35f2a3",
   "metadata": {},
   "outputs": [
    {
     "name": "stdout",
     "output_type": "stream",
     "text": [
      "10/10 [==============================] - 1s 4ms/step - loss: 1.6983 - categorical_accuracy: 0.3719\n",
      "\n",
      "Loss = 1.698307752609253\n",
      "Test Accuracy = 0.37187498807907104\n"
     ]
    }
   ],
   "source": [
    "preds = winemod1.evaluate(x = X_test, y = Y_test)\n",
    "print()\n",
    "print (\"Loss = \" + str(preds[0]))\n",
    "print (\"Test Accuracy = \" + str(preds[1]))"
   ]
  },
  {
   "cell_type": "code",
   "execution_count": 66,
   "id": "dd0660a8",
   "metadata": {},
   "outputs": [],
   "source": [
    "class_prediction=winemod1.predict(X_test)"
   ]
  },
  {
   "cell_type": "code",
   "execution_count": 33,
   "id": "7a6481f3",
   "metadata": {},
   "outputs": [
    {
     "name": "stdout",
     "output_type": "stream",
     "text": [
      "Epoch 1/100\n",
      "5/5 [==============================] - 2s 110ms/step - loss: 4.4327 - val_loss: 2.5308\n",
      "Epoch 2/100\n",
      "5/5 [==============================] - 0s 36ms/step - loss: 1.7632 - val_loss: 1.6790\n",
      "Epoch 3/100\n",
      "5/5 [==============================] - 0s 35ms/step - loss: 1.3372 - val_loss: 1.0105\n",
      "Epoch 4/100\n",
      "5/5 [==============================] - 0s 33ms/step - loss: 0.9321 - val_loss: 0.9988\n",
      "Epoch 5/100\n",
      "5/5 [==============================] - 0s 34ms/step - loss: 0.8449 - val_loss: 0.6477\n",
      "Epoch 6/100\n",
      "5/5 [==============================] - 0s 33ms/step - loss: 0.7238 - val_loss: 0.8083\n",
      "Epoch 7/100\n",
      "5/5 [==============================] - 0s 46ms/step - loss: 0.6756 - val_loss: 0.7358\n",
      "Epoch 8/100\n",
      "5/5 [==============================] - 0s 37ms/step - loss: 0.6543 - val_loss: 0.5808\n",
      "Epoch 9/100\n",
      "5/5 [==============================] - 0s 39ms/step - loss: 0.5702 - val_loss: 0.5769\n",
      "Epoch 10/100\n",
      "5/5 [==============================] - 0s 40ms/step - loss: 0.5519 - val_loss: 0.5665\n",
      "Epoch 11/100\n",
      "5/5 [==============================] - 0s 39ms/step - loss: 0.5365 - val_loss: 0.5620\n",
      "Epoch 12/100\n",
      "5/5 [==============================] - 0s 46ms/step - loss: 0.5412 - val_loss: 0.5574\n",
      "Epoch 13/100\n",
      "5/5 [==============================] - 0s 43ms/step - loss: 0.5481 - val_loss: 0.5628\n",
      "Epoch 14/100\n",
      "5/5 [==============================] - 0s 61ms/step - loss: 0.5317 - val_loss: 0.5636\n",
      "Epoch 15/100\n",
      "5/5 [==============================] - 0s 53ms/step - loss: 0.5514 - val_loss: 0.5661\n",
      "Epoch 16/100\n",
      "5/5 [==============================] - 0s 51ms/step - loss: 0.5670 - val_loss: 0.5594\n",
      "Epoch 17/100\n",
      "5/5 [==============================] - 0s 40ms/step - loss: 0.5789 - val_loss: 0.5770\n",
      "Epoch 18/100\n",
      "5/5 [==============================] - 0s 43ms/step - loss: 0.5346 - val_loss: 0.5552\n",
      "Epoch 19/100\n",
      "5/5 [==============================] - 0s 40ms/step - loss: 0.5298 - val_loss: 0.5659\n",
      "Epoch 20/100\n",
      "5/5 [==============================] - 0s 79ms/step - loss: 0.5283 - val_loss: 0.5639\n",
      "Epoch 21/100\n",
      "5/5 [==============================] - 0s 59ms/step - loss: 0.5477 - val_loss: 0.5391\n",
      "Epoch 22/100\n",
      "5/5 [==============================] - 0s 73ms/step - loss: 0.5328 - val_loss: 0.5680\n",
      "Epoch 23/100\n",
      "5/5 [==============================] - 0s 55ms/step - loss: 0.5309 - val_loss: 0.5340\n",
      "Epoch 24/100\n",
      "5/5 [==============================] - 0s 42ms/step - loss: 0.5493 - val_loss: 0.6266\n",
      "Epoch 25/100\n",
      "5/5 [==============================] - 0s 66ms/step - loss: 0.5660 - val_loss: 0.5881\n",
      "Epoch 26/100\n",
      "5/5 [==============================] - 0s 46ms/step - loss: 0.5408 - val_loss: 0.5469\n",
      "Epoch 27/100\n",
      "5/5 [==============================] - 0s 48ms/step - loss: 0.5397 - val_loss: 0.5673\n",
      "Epoch 28/100\n",
      "5/5 [==============================] - 0s 49ms/step - loss: 0.5308 - val_loss: 0.6015\n",
      "Epoch 29/100\n",
      "5/5 [==============================] - 0s 41ms/step - loss: 0.5692 - val_loss: 0.5649\n",
      "Epoch 30/100\n",
      "5/5 [==============================] - 0s 69ms/step - loss: 0.5470 - val_loss: 0.5339\n",
      "Epoch 31/100\n",
      "5/5 [==============================] - 0s 41ms/step - loss: 0.5509 - val_loss: 0.5620\n",
      "Epoch 32/100\n",
      "5/5 [==============================] - 0s 44ms/step - loss: 0.5351 - val_loss: 0.5972\n",
      "Epoch 33/100\n",
      "5/5 [==============================] - 0s 43ms/step - loss: 0.5478 - val_loss: 0.5438\n",
      "Epoch 34/100\n",
      "5/5 [==============================] - 0s 33ms/step - loss: 0.5623 - val_loss: 0.5516\n",
      "Epoch 35/100\n",
      "5/5 [==============================] - 0s 64ms/step - loss: 0.5124 - val_loss: 0.5481\n",
      "Epoch 36/100\n",
      "5/5 [==============================] - 0s 61ms/step - loss: 0.5388 - val_loss: 0.6116\n",
      "Epoch 37/100\n",
      "5/5 [==============================] - 0s 67ms/step - loss: 0.5784 - val_loss: 0.6155\n",
      "Epoch 38/100\n",
      "5/5 [==============================] - 0s 83ms/step - loss: 0.5984 - val_loss: 0.6509\n",
      "Epoch 39/100\n",
      "5/5 [==============================] - 0s 50ms/step - loss: 0.5776 - val_loss: 0.5560\n",
      "Epoch 40/100\n",
      "5/5 [==============================] - 0s 82ms/step - loss: 0.5274 - val_loss: 0.5387\n",
      "Epoch 41/100\n",
      "5/5 [==============================] - 0s 46ms/step - loss: 0.5148 - val_loss: 0.5242\n",
      "Epoch 42/100\n",
      "5/5 [==============================] - 0s 43ms/step - loss: 0.5021 - val_loss: 0.5260\n",
      "Epoch 43/100\n",
      "5/5 [==============================] - 0s 70ms/step - loss: 0.4960 - val_loss: 0.5424\n",
      "Epoch 44/100\n",
      "5/5 [==============================] - 0s 39ms/step - loss: 0.5011 - val_loss: 0.5413\n",
      "Epoch 45/100\n",
      "5/5 [==============================] - 0s 36ms/step - loss: 0.5038 - val_loss: 0.5192\n",
      "Epoch 46/100\n",
      "5/5 [==============================] - 0s 44ms/step - loss: 0.4967 - val_loss: 0.5659\n",
      "Epoch 47/100\n",
      "5/5 [==============================] - 0s 64ms/step - loss: 0.5428 - val_loss: 0.5965\n",
      "Epoch 48/100\n",
      "5/5 [==============================] - 0s 78ms/step - loss: 0.5922 - val_loss: 0.5713\n",
      "Epoch 49/100\n",
      "5/5 [==============================] - 0s 27ms/step - loss: 0.6012 - val_loss: 0.7156\n",
      "Epoch 50/100\n",
      "5/5 [==============================] - 0s 48ms/step - loss: 0.5976 - val_loss: 0.6181\n",
      "Epoch 51/100\n",
      "5/5 [==============================] - 0s 51ms/step - loss: 0.5488 - val_loss: 0.5453\n",
      "Epoch 52/100\n",
      "5/5 [==============================] - 0s 36ms/step - loss: 0.5481 - val_loss: 0.5342\n",
      "Epoch 53/100\n",
      "5/5 [==============================] - 0s 34ms/step - loss: 0.5265 - val_loss: 0.5629\n",
      "Epoch 54/100\n",
      "5/5 [==============================] - 0s 39ms/step - loss: 0.5121 - val_loss: 0.6237\n",
      "Epoch 55/100\n",
      "5/5 [==============================] - 0s 49ms/step - loss: 0.5325 - val_loss: 0.5493\n",
      "Epoch 56/100\n",
      "5/5 [==============================] - 0s 44ms/step - loss: 0.5076 - val_loss: 0.5164\n",
      "Epoch 57/100\n",
      "5/5 [==============================] - 0s 41ms/step - loss: 0.4905 - val_loss: 0.5261\n",
      "Epoch 58/100\n",
      "5/5 [==============================] - 0s 40ms/step - loss: 0.4862 - val_loss: 0.5155\n",
      "Epoch 59/100\n",
      "5/5 [==============================] - 0s 44ms/step - loss: 0.4863 - val_loss: 0.5197\n",
      "Epoch 60/100\n",
      "5/5 [==============================] - 0s 65ms/step - loss: 0.4882 - val_loss: 0.5493\n",
      "Epoch 61/100\n",
      "5/5 [==============================] - ETA: 0s - loss: 0.502 - 0s 46ms/step - loss: 0.4999 - val_loss: 0.5164\n",
      "Epoch 62/100\n",
      "5/5 [==============================] - 0s 37ms/step - loss: 0.5071 - val_loss: 0.5556\n",
      "Epoch 63/100\n",
      "5/5 [==============================] - 0s 45ms/step - loss: 0.5088 - val_loss: 0.5324\n",
      "Epoch 64/100\n",
      "5/5 [==============================] - 0s 71ms/step - loss: 0.4973 - val_loss: 0.5106\n",
      "Epoch 65/100\n",
      "5/5 [==============================] - 0s 64ms/step - loss: 0.4818 - val_loss: 0.5299\n",
      "Epoch 66/100\n",
      "5/5 [==============================] - 0s 35ms/step - loss: 0.5023 - val_loss: 0.5120\n",
      "Epoch 67/100\n",
      "5/5 [==============================] - 0s 39ms/step - loss: 0.4847 - val_loss: 0.5327\n",
      "Epoch 68/100\n",
      "5/5 [==============================] - 0s 39ms/step - loss: 0.4946 - val_loss: 0.5281\n",
      "Epoch 69/100\n",
      "5/5 [==============================] - 0s 33ms/step - loss: 0.4951 - val_loss: 0.5127\n",
      "Epoch 70/100\n",
      "5/5 [==============================] - 0s 27ms/step - loss: 0.5108 - val_loss: 0.5346\n",
      "Epoch 71/100\n",
      "5/5 [==============================] - 0s 65ms/step - loss: 0.4869 - val_loss: 0.5276\n",
      "Epoch 72/100\n",
      "5/5 [==============================] - 0s 30ms/step - loss: 0.4922 - val_loss: 0.5909\n",
      "Epoch 73/100\n",
      "5/5 [==============================] - 0s 39ms/step - loss: 0.5189 - val_loss: 0.5148\n",
      "Epoch 74/100\n",
      "5/5 [==============================] - 0s 38ms/step - loss: 0.4839 - val_loss: 0.5224\n",
      "Epoch 75/100\n",
      "5/5 [==============================] - 0s 37ms/step - loss: 0.4910 - val_loss: 0.5287\n",
      "Epoch 76/100\n",
      "5/5 [==============================] - 0s 36ms/step - loss: 0.4968 - val_loss: 0.5503\n",
      "Epoch 77/100\n",
      "5/5 [==============================] - 0s 31ms/step - loss: 0.5014 - val_loss: 0.5142\n",
      "Epoch 78/100\n",
      "5/5 [==============================] - 0s 23ms/step - loss: 0.5199 - val_loss: 0.5533\n",
      "Epoch 79/100\n",
      "5/5 [==============================] - 0s 33ms/step - loss: 0.4917 - val_loss: 0.5091\n",
      "Epoch 80/100\n",
      "5/5 [==============================] - 0s 37ms/step - loss: 0.5078 - val_loss: 0.5389\n",
      "Epoch 81/100\n",
      "5/5 [==============================] - 0s 29ms/step - loss: 0.5030 - val_loss: 0.5282\n",
      "Epoch 82/100\n",
      "5/5 [==============================] - 0s 24ms/step - loss: 0.5164 - val_loss: 0.5145\n",
      "Epoch 83/100\n",
      "5/5 [==============================] - 0s 23ms/step - loss: 0.4820 - val_loss: 0.5247\n",
      "Epoch 84/100\n",
      "5/5 [==============================] - 0s 54ms/step - loss: 0.4825 - val_loss: 0.5128\n",
      "Epoch 85/100\n",
      "5/5 [==============================] - 0s 69ms/step - loss: 0.4829 - val_loss: 0.5044\n",
      "Epoch 86/100\n",
      "5/5 [==============================] - 0s 46ms/step - loss: 0.4894 - val_loss: 0.5508\n",
      "Epoch 87/100\n",
      "5/5 [==============================] - 0s 35ms/step - loss: 0.5448 - val_loss: 0.5830\n",
      "Epoch 88/100\n",
      "5/5 [==============================] - 0s 38ms/step - loss: 0.5527 - val_loss: 0.5238\n",
      "Epoch 89/100\n",
      "5/5 [==============================] - 0s 41ms/step - loss: 0.5385 - val_loss: 0.5049\n",
      "Epoch 90/100\n",
      "5/5 [==============================] - 0s 40ms/step - loss: 0.5074 - val_loss: 0.5769\n",
      "Epoch 91/100\n",
      "5/5 [==============================] - 0s 40ms/step - loss: 0.5356 - val_loss: 0.5747\n",
      "Epoch 92/100\n",
      "5/5 [==============================] - 0s 46ms/step - loss: 0.5237 - val_loss: 0.5031\n",
      "Epoch 93/100\n",
      "5/5 [==============================] - 0s 42ms/step - loss: 0.4793 - val_loss: 0.5199\n",
      "Epoch 94/100\n",
      "5/5 [==============================] - 0s 36ms/step - loss: 0.4966 - val_loss: 0.5381\n",
      "Epoch 95/100\n",
      "5/5 [==============================] - 0s 30ms/step - loss: 0.5147 - val_loss: 0.5298\n",
      "Epoch 96/100\n",
      "5/5 [==============================] - 0s 72ms/step - loss: 0.4952 - val_loss: 0.5293\n",
      "Epoch 97/100\n",
      "5/5 [==============================] - 0s 52ms/step - loss: 0.4926 - val_loss: 0.5633\n",
      "Epoch 98/100\n",
      "5/5 [==============================] - 0s 38ms/step - loss: 0.5066 - val_loss: 0.5054\n",
      "Epoch 99/100\n",
      "5/5 [==============================] - 0s 46ms/step - loss: 0.5007 - val_loss: 0.5027\n",
      "Epoch 100/100\n",
      "5/5 [==============================] - 0s 34ms/step - loss: 0.4833 - val_loss: 0.5260\n"
     ]
    }
   ],
   "source": [
    "history = model.fit(\n",
    "    x_train, y_train,\n",
    "    validation_data=(x_test, y_test),\n",
    "    batch_size=256,\n",
    "    epochs=100,\n",
    ")"
   ]
  },
  {
   "cell_type": "code",
   "execution_count": 34,
   "id": "986d92d6",
   "metadata": {},
   "outputs": [
    {
     "data": {
      "image/png": "[encoded data removed]",
      "text/plain": [
       "<Figure size 432x288 with 1 Axes>"
      ]
     },
     "metadata": {
      "needs_background": "light"
     },
     "output_type": "display_data"
    }
   ],
   "source": [
    "history_df = pd.DataFrame(history.history)\n",
    "history_df['loss'].plot();"
   ]
  },
  {
   "cell_type": "code",
   "execution_count": 35,
   "id": "d400aa33",
   "metadata": {},
   "outputs": [],
   "source": [
    "y_pred_model=model.predict(x_test)"
   ]
  },
  {
   "cell_type": "markdown",
   "id": "3b68a874",
   "metadata": {},
   "source": [
    "### Model Evaluation\n",
    "\n",
    "Evaluating the model accuracy is an essential part of the process in creating machine learning models to describe how well the model is performing in its predictions. Evaluation metrics change according to the problem type. Here, we'll briefly learn how to check the accuracy of the regression model.\n",
    "\n",
    "The linear model (regression) can be a typical example of this type of problem, and the main characteristic of the regression problem is that the targets of a dataset contain the real numbers only. The errors represent how much the model is making mistakes in its prediction. The basic concept of accuracy evaluation is to compare the original target with the predicted one according to certain metrics.\n",
    "\n",
    "\n",
    "**Regression model evaluation metrics**\n",
    "\n",
    "The MAE, RMSE, and R-Squared metrics are mainly used to evaluate the prediction error rates and model performance in regression analysis.\n",
    "\n",
    "**MAE (Mean absolute error)** represents the difference between the original and predicted values extracted by averaged the absolute difference over the data set.\n",
    "\n",
    "**RMSE (Root Mean Squared Error)** is the error rate by the square root of MSE.\n",
    "\n",
    "**R-squared (Coefficient of determination)** represents the coefficient of how well the values fit compared to the original values. The value from 0 to 1 interpreted as percentages. The higher the value is, the better the model is.\n",
    "\n",
    "The above metrics can be expressed as following:\n",
    "<img src = \"https://4.bp.blogspot.com/-wG7IbjTfE6k/XGUvqm7TCVI/AAAAAAAAAZU/vpH1kuKTIooKTcVlnm1EVRCXLVZM9cPNgCLcBGAs/s1600/formula-MAE-MSE-RMSE-RSquared.JPG\">\n",
    "\n",
    "Please find more information on how to implement them from this link: https://scikit-learn.org/stable/modules/classes.html#regression-metrics\n",
    "\n",
    "Find more about feature importances from here: https://machinelearningmastery.com/calculate-feature-importance-with-python/\n",
    "\n",
    "**Classification model evaluation metrics**\n",
    "\n",
    "<img src=\"https://www.researchgate.net/publication/336402347/figure/fig3/AS:812472659349505@1570719985505/Calculation-of-Precision-Recall-and-Accuracy-in-the-confusion-matrix.ppm\">"
   ]
  },
  {
   "cell_type": "markdown",
   "id": "0cc9ec55",
   "metadata": {},
   "source": [
    "*TODO*\n",
    "\n",
    "**For Regression models**\n",
    "<li>Use three metrics: R-squared, RMSE, and MAE, to evaluate model prediction performance</li>\n",
    "<li>Compare these 3 metrics for the two models and analyze the performance</li>\n",
    "<li>Calculate the feature importance scores for the top features that help predicting wine quality and visualize them</li>\n",
    "\n",
    "**For Classification model**\n",
    "<li> Plot training loss and validation loss </li>\n",
    "<li> Plot training accuracy and validation accuracy </li>\n",
    "<li> Evaluate the classsification model using Precision, Recall and Accuracy metrics </li>"
   ]
  },
  {
   "cell_type": "markdown",
   "id": "87d5f8fe",
   "metadata": {},
   "source": [
    "# For Regression Models"
   ]
  },
  {
   "cell_type": "code",
   "execution_count": 58,
   "id": "258877f3",
   "metadata": {},
   "outputs": [
    {
     "name": "stdout",
     "output_type": "stream",
     "text": [
      "r2 : 0.4183385391250293\n",
      "mean squared error : 0.40938401510468764\n",
      "mean absolute error : 0.49418602858064664\n"
     ]
    }
   ],
   "source": [
    "from sklearn.metrics import r2_score\n",
    "from sklearn.metrics import mean_absolute_error\n",
    "from sklearn.metrics import mean_squared_error\n",
    "r2=r2_score(y_test, y_pred_reg)\n",
    "print(\"r2 :\",r2)\n",
    "mse=mean_squared_error(y_test, y_pred_reg)\n",
    "print(\"mean squared error :\",mse)\n",
    "mean=mean_absolute_error(y_test, y_pred_reg)\n",
    "print(\"mean absolute error :\",mean)"
   ]
  },
  {
   "cell_type": "markdown",
   "id": "e2ccb412",
   "metadata": {},
   "source": [
    "# For Bayes Models"
   ]
  },
  {
   "cell_type": "code",
   "execution_count": 59,
   "id": "b5faf831",
   "metadata": {},
   "outputs": [
    {
     "name": "stdout",
     "output_type": "stream",
     "text": [
      "r2 : 0.41369474507843385\n",
      "mean squared error : 0.41265240261183783\n",
      "mean absolute error : 0.4968204163181061\n"
     ]
    }
   ],
   "source": [
    "r2=r2_score(y_test, y_pred_byes)\n",
    "print(\"r2 :\",r2)\n",
    "mse=mean_squared_error(y_test, y_pred_byes)\n",
    "print(\"mean squared error :\",mse)\n",
    "mean=mean_absolute_error(y_test, y_pred_byes)\n",
    "print(\"mean absolute error :\",mean)"
   ]
  },
  {
   "cell_type": "markdown",
   "id": "6c214e88",
   "metadata": {},
   "source": [
    "# Neural Networks"
   ]
  },
  {
   "cell_type": "code",
   "execution_count": 60,
   "id": "9bb32df9",
   "metadata": {},
   "outputs": [
    {
     "name": "stdout",
     "output_type": "stream",
     "text": [
      "r2 : 0.36179044627653645\n",
      "mean squared error : 0.44918360103909905\n",
      "mean absolute error : 0.5260469719767571\n"
     ]
    }
   ],
   "source": [
    "r2=r2_score(y_test, y_pred_model)\n",
    "print(\"r2 :\",r2)\n",
    "mse=mean_squared_error(y_test, y_pred_model)\n",
    "print(\"mean squared error :\",mse)\n",
    "mean=mean_absolute_error(y_test, y_pred_model)\n",
    "print(\"mean absolute error :\",mean)"
   ]
  },
  {
   "cell_type": "markdown",
   "id": "dc5677f9",
   "metadata": {},
   "source": [
    "Calculate the feature importance scores for the top features that help predicting wine quality and visualize them"
   ]
  },
  {
   "cell_type": "code",
   "execution_count": 61,
   "id": "b975b116",
   "metadata": {},
   "outputs": [
    {
     "name": "stdout",
     "output_type": "stream",
     "text": [
      "Feature: 0, Score: 0.02724\n",
      "Feature: 1, Score: -1.03435\n",
      "Feature: 2, Score: -0.17403\n",
      "Feature: 3, Score: 0.01514\n",
      "Feature: 4, Score: -1.81063\n",
      "Feature: 5, Score: 0.00423\n",
      "Feature: 6, Score: -0.00330\n",
      "Feature: 7, Score: -17.12977\n",
      "Feature: 8, Score: -0.39383\n",
      "Feature: 9, Score: 0.83381\n",
      "Feature: 10, Score: 0.27144\n"
     ]
    },
    {
     "data": {
      "image/png": "[encoded data removed]",
      "text/plain": [
       "<Figure size 432x288 with 1 Axes>"
      ]
     },
     "metadata": {
      "needs_background": "light"
     },
     "output_type": "display_data"
    }
   ],
   "source": [
    "import matplotlib.pyplot as plt\n",
    "importance = reg.coef_\n",
    "# summarize feature importance\n",
    "for i,v in enumerate(importance):\n",
    "\tprint('Feature: %0d, Score: %.5f' % (i,v))\n",
    "# plot feature importance\n",
    "plt.bar([x for x in range(len(importance))], importance)\n",
    "plt.show()"
   ]
  },
  {
   "cell_type": "code",
   "execution_count": 62,
   "id": "e9ff9cb5",
   "metadata": {},
   "outputs": [
    {
     "name": "stdout",
     "output_type": "stream",
     "text": [
      "Feature: 0, Score: 0.01791\n",
      "Feature: 1, Score: -1.05313\n",
      "Feature: 2, Score: -0.18614\n",
      "Feature: 3, Score: 0.00667\n",
      "Feature: 4, Score: -1.09814\n",
      "Feature: 5, Score: 0.00440\n",
      "Feature: 6, Score: -0.00322\n",
      "Feature: 7, Score: -0.01349\n",
      "Feature: 8, Score: -0.38544\n",
      "Feature: 9, Score: 0.70606\n",
      "Feature: 10, Score: 0.29482\n"
     ]
    },
    {
     "data": {
      "image/png": "[encoded data removed]",
      "text/plain": [
       "<Figure size 432x288 with 1 Axes>"
      ]
     },
     "metadata": {
      "needs_background": "light"
     },
     "output_type": "display_data"
    }
   ],
   "source": [
    "import matplotlib.pyplot as plt\n",
    "importance = reg_byes.coef_\n",
    "# summarize feature importance\n",
    "for i,v in enumerate(importance):\n",
    "\tprint('Feature: %0d, Score: %.5f' % (i,v))\n",
    "# plot feature importance\n",
    "plt.bar([x for x in range(len(importance))], importance)\n",
    "plt.show()"
   ]
  },
  {
   "cell_type": "markdown",
   "id": "5620268d",
   "metadata": {},
   "source": [
    "As can be seen the r2 and mean absolute error are almost same for both models the only difference is in mean square error value which is good in linear regression model and slightly high for byes regression model. For neural networks the r2 error is smaller than all of the models and mean absolute is greater than all of the models."
   ]
  },
  {
   "cell_type": "markdown",
   "id": "c59403d6",
   "metadata": {},
   "source": [
    "## Summarize history for accuracy"
   ]
  },
  {
   "cell_type": "code",
   "execution_count": 63,
   "id": "2066946a",
   "metadata": {},
   "outputs": [
    {
     "data": {
      "image/png": "[encoded data removed]",
      "text/plain": [
       "<Figure size 432x288 with 1 Axes>"
      ]
     },
     "metadata": {
      "needs_background": "light"
     },
     "output_type": "display_data"
    }
   ],
   "source": [
    "\n",
    "plt.plot(history.history['categorical_accuracy'])\n",
    "plt.plot(history.history['val_categorical_accuracy'])\n",
    "plt.title('model accuracy')\n",
    "plt.ylabel('accuracy')\n",
    "plt.xlabel('epoch')\n",
    "plt.legend(['Train', 'Validation'], loc='upper left')\n",
    "plt.show()"
   ]
  },
  {
   "cell_type": "markdown",
   "id": "3a378e6d",
   "metadata": {},
   "source": [
    "## Summarize history for loss"
   ]
  },
  {
   "cell_type": "code",
   "execution_count": 64,
   "id": "e84a21f4",
   "metadata": {},
   "outputs": [
    {
     "data": {
      "image/png": "[encoded data removed]",
      "text/plain": [
       "<Figure size 432x288 with 1 Axes>"
      ]
     },
     "metadata": {
      "needs_background": "light"
     },
     "output_type": "display_data"
    }
   ],
   "source": [
    "plt.plot(history.history['loss'])\n",
    "plt.plot(history.history['val_loss'])\n",
    "plt.title('model loss')\n",
    "plt.ylabel('loss')\n",
    "plt.xlabel('epoch')\n",
    "plt.legend(['Train', 'Validation'], loc='upper left')\n",
    "plt.show()"
   ]
  },
  {
   "cell_type": "code",
   "execution_count": 67,
   "id": "d191b23f",
   "metadata": {},
   "outputs": [],
   "source": [
    "from sklearn import metrics\n",
    "matrix = metrics.confusion_matrix(Y_test.argmax(axis=1), class_prediction.argmax(axis=1))"
   ]
  },
  {
   "cell_type": "code",
   "execution_count": 68,
   "id": "c84ae543",
   "metadata": {},
   "outputs": [
    {
     "data": {
      "text/plain": [
       "array([[  0,   0,  11,   2,   0],\n",
       "       [  0,   8, 116,  10,   0],\n",
       "       [  0,   1,  85,  32,   0],\n",
       "       [  0,   0,  24,  26,   0],\n",
       "       [  0,   0,   1,   4,   0]])"
      ]
     },
     "execution_count": 68,
     "metadata": {},
     "output_type": "execute_result"
    }
   ],
   "source": [
    "matrix"
   ]
  },
  {
   "cell_type": "code",
   "execution_count": 69,
   "id": "60d1d10e",
   "metadata": {},
   "outputs": [
    {
     "name": "stdout",
     "output_type": "stream",
     "text": [
      "              precision    recall  f1-score   support\n",
      "\n",
      "   quality_4       0.00      0.00      0.00        13\n",
      "   quality_5       0.89      0.06      0.11       134\n",
      "   quality_6       0.36      0.72      0.48       118\n",
      "   quality_7       0.35      0.52      0.42        50\n",
      "   quality_8       0.00      0.00      0.00         5\n",
      "\n",
      "    accuracy                           0.37       320\n",
      "   macro avg       0.32      0.26      0.20       320\n",
      "weighted avg       0.56      0.37      0.29       320\n",
      "\n"
     ]
    },
    {
     "name": "stderr",
     "output_type": "stream",
     "text": [
      "/Users/taswarkarim/opt/anaconda3/lib/python3.9/site-packages/sklearn/metrics/_classification.py:1248: UndefinedMetricWarning: Precision and F-score are ill-defined and being set to 0.0 in labels with no predicted samples. Use `zero_division` parameter to control this behavior.\n",
      "  _warn_prf(average, modifier, msg_start, len(result))\n",
      "/Users/taswarkarim/opt/anaconda3/lib/python3.9/site-packages/sklearn/metrics/_classification.py:1248: UndefinedMetricWarning: Precision and F-score are ill-defined and being set to 0.0 in labels with no predicted samples. Use `zero_division` parameter to control this behavior.\n",
      "  _warn_prf(average, modifier, msg_start, len(result))\n",
      "/Users/taswarkarim/opt/anaconda3/lib/python3.9/site-packages/sklearn/metrics/_classification.py:1248: UndefinedMetricWarning: Precision and F-score are ill-defined and being set to 0.0 in labels with no predicted samples. Use `zero_division` parameter to control this behavior.\n",
      "  _warn_prf(average, modifier, msg_start, len(result))\n"
     ]
    }
   ],
   "source": [
    "from sklearn.metrics import classification_report\n",
    "target_names = ['quality_4','quality_5','quality_6','quality_7','quality_8']\n",
    "print(classification_report(Y_test.argmax(axis=1), class_prediction.argmax(axis=1), target_names=target_names))"
   ]
  },
  {
   "cell_type": "markdown",
   "id": "c7d24389",
   "metadata": {},
   "source": [
    "As can be seen the r2 and mean absolute error are almost same for both models the only difference is in mean square error value which is good in linear regression model and slightly high for byes regression model. For neural networks the r2 error is smaller than all of the models and mean absolute is greater than all of the models."
   ]
  },
  {
   "cell_type": "markdown",
   "id": "cc93c002",
   "metadata": {},
   "source": [
    "### Conclusion\n",
    "\n",
    "*TODO*"
   ]
  },
  {
   "cell_type": "markdown",
   "id": "09bfb453",
   "metadata": {},
   "source": [
    "After running our three models, we used three metrics: R-squared, RMSE, and MAE, to evaluate our model prediction performance. As we expected, Model 3 is the best in terms of all three metrics, \n",
    "\n",
    "### r2 : 0.36179044627653645\n",
    "\n",
    "### mean squared error : 0.44918360103909905\n",
    "\n",
    "### mean absolute error : 0.5260469719767571\n",
    "\n",
    "\n",
    "By analyzing the tests samples data of red wines from the north of Portugal, I was able to create a model that can help industry producers, distributors, and sellers predict the quality of red wine products and have a better understanding of each critical and up-to-date features"
   ]
  },
  {
   "cell_type": "markdown",
   "id": "cbb32fbd",
   "metadata": {},
   "source": []
  }
 ],
 "metadata": {
  "kernelspec": {
   "display_name": "Python 3 (ipykernel)",
   "language": "python",
   "name": "python3"
  },
  "language_info": {
   "codemirror_mode": {
    "name": "ipython",
    "version": 3
   },
   "file_extension": ".py",
   "mimetype": "text/x-python",
   "name": "python",
   "nbconvert_exporter": "python",
   "pygments_lexer": "ipython3",
   "version": "3.9.7"
  }
 },
 "nbformat": 4,
 "nbformat_minor": 5
}
